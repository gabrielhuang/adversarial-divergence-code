{
 "cells": [
  {
   "cell_type": "code",
   "execution_count": 1,
   "metadata": {},
   "outputs": [],
   "source": [
    "import numpy as np\n",
    "from coins import generate_combinations\n",
    "from itertools import product\n",
    "\n"
   ]
  },
  {
   "cell_type": "code",
   "execution_count": 2,
   "metadata": {},
   "outputs": [
    {
     "name": "stdout",
     "output_type": "stream",
     "text": [
      "Marginals [0.06180075 0.07369917 0.08524241 0.09589771 0.1051323  0.11241343\n",
      " 0.11720831 0.11898419 0.11720831 0.11241343]\n",
      "Got 5631 combinations out of 10^5=100000\n",
      "Ratio is 0.05631\n",
      "Uniform entropy 11.51 bits\n",
      "Marginal entropy 11.41 bits\n",
      "Joint entropy 8.64 bits\n",
      "Difference is 2.78 bits\n"
     ]
    }
   ],
   "source": [
    "uniform = np.asarray(list(product(range(10),range(10),range(10),range(10),range(10))))\n",
    "combinations = np.asarray(generate_combinations(25, range(10), 5))\n",
    "combinations_set = set(tuple(c) for c in combinations)\n",
    "\n",
    "marginals = np.zeros(10)\n",
    "for i in xrange(10):\n",
    "    marginals[i] = (combinations==i).mean()\n",
    "print 'Marginals', marginals\n",
    "print 'Got {} combinations out of 10^5=100000'.format(len(combinations))\n",
    "print 'Ratio is {}'.format(len(combinations) / 10.**5)\n",
    "print 'Uniform entropy {:.2f} bits'.format(np.log(10.**5))\n",
    "marginal_entropy = -5 * np.sum(marginals * np.log(marginals))\n",
    "print 'Marginal entropy {:.2f} bits'.format(marginal_entropy)\n",
    "joint_entropy = np.log(len(combinations))\n",
    "print 'Joint entropy {:.2f} bits'.format(joint_entropy)\n",
    "\n",
    "print 'Difference is {:.2f} bits'.format(marginal_entropy - joint_entropy)"
   ]
  },
  {
   "cell_type": "markdown",
   "metadata": {},
   "source": [
    "## Symbolic\n",
    "The entropy is the lowest negative-log-likelihood one can expect (when the model matches the true distribution).\n",
    "So, given symbolic-sum-25 distribution, the best nll we can expect is 8.64 bits.\n",
    "\n",
    "Another perspective: marginal entropy is the best nll one can expect from a independent model (interestingly it's almost the same as the uniform).\n",
    "\n",
    "N is the number of combinations (5631), i is the combination index (0 to 5630), j is the digit index (0 to 4).\n",
    "\n",
    "NLL Joint: $$ E_p[-\\log q(z)] = \\frac 1 N \\sum_i -\\log q(z) \\approx 11.41$$\n",
    "NLL Marginal: $$ E_p[-\\log q(z)] = E_p[-\\sum_j \\log q_j(z_j)] \\approx 8.64$$\n",
    "\n",
    "## Images\n",
    "Now let's look into using images. We factor the model as $q(x) = q(z) \\prod_i q(x_i|z_i)$. Then we need to marginalize wrt $z$ because it is an unobserved variable.\n",
    "\n",
    "NLL Joint: $$ E_p[- \\log \\sum_z q(z) \\prod_j q(x_j|z_j)] $$\n",
    "NLL Marginal: $$ E_p[- \\log \\sum_z \\prod_j q(z_j) q(x_j|z_j)]$$\n",
    "E_p[- \\log \\prod_j \\sum_{z_0} q(z_0) q(x_0|z_0)] = - 5 * NLL-Single-Model$$.\n",
    "\n",
    "## Simplifying assumption of good and bad images\n",
    "Let's make a simplifying assumption that:\n",
    "- if $y_j=z_j$ then $q(x_j|z_j)=a$\n",
    "- else if $y_j\\neq z_j$ then $q(x_j|z_j)=b$.\n",
    "\n",
    "Then we have\n",
    "\n",
    "NLL Joint: $$ E_{y\\sim p(y)}[- \\log \\sum_z q(z) \\prod_j (a*1_{z_j=y_j} + b*1_{z_j\\neq y_j})] $$\n",
    "\n",
    "## Perfect conditional image model\n",
    "Suppose we got the \"perfect\" conditional image model, which is uniform over 6000 images of given class (mixture of diracs).\n",
    "Then $a=1/6000$ and $b=0$.\n",
    "\n",
    "We have: \n",
    "\n",
    "NLL Joint: $$ E_{y\\sim p(y)}[- \\log (q(z) a^5)] = -5 \\log a + E_{y\\sim p(y)}[-\\log q(z)] $$\n",
    "which is 43 + Symbolic_NLL.\n",
    "\n",
    "Indeed this result is confirmed by the numerical results with a=1/6000 and b=0.\n",
    "We get a difference of 2.78 bits in that case, exactly like the symbolic case (since images are either assigned perfect score or none).\n",
    "\n",
    "\n",
    "## Perfect marginalized image model \n",
    "\n",
    "Suppose we got the \"perfect\" marginal image model, which is uniform over 60000 images of 10 classes (mixture of diracs).\n",
    "Then $a=b=1/60000$.\n",
    "\n",
    "NLL Joint: $$ E_{y\\sim p(y)}[- \\log \\sum_z q(z) \\prod_j a] = -5 \\log a + E_{y\\sim p(y)}[- \\log \\sum_z q(z)] = -5 \\log a = 55 bits$$ since q sums up to zero.\n",
    "\n",
    "Therefore, if we ignore the marginal image model completely, we can get a score of 55 bits, which corresponds to the independent/uniform case.\n",
    "\n",
    "\n",
    "## Perfect symbolic model\n",
    "\n",
    "NLL Joint: $$ E_{y\\sim p(y)}[- \\log \\sum_z p(z) \\prod_j (a*1_{z_j=y_j} + b*1_{z_j\\neq y_j})] \n",
    "= \\frac 1 N \\sum_{k=1}^N [ - \\log \\frac 1 N \\sum_{i=1}^N \\prod_j (a*1_{z_j^i=y_j^k} + b*1_{z_j^i\\neq y_j^k})] $$\n",
    "\n",
    "\n",
    "## Todo: compare slightly flawed images respecting constraint with perfect images not respecting constraint\n",
    "\n",
    "to do this, one could switch a and b for one class, which would correspond to ensuring that 25 is never respected."
   ]
  },
  {
   "cell_type": "code",
   "execution_count": 134,
   "metadata": {},
   "outputs": [
    {
     "data": {
      "text/plain": [
       "55.010499206021194"
      ]
     },
     "execution_count": 134,
     "metadata": {},
     "output_type": "execute_result"
    }
   ],
   "source": [
    "-5*np.log(1./60000)"
   ]
  },
  {
   "cell_type": "code",
   "execution_count": 7,
   "metadata": {},
   "outputs": [
    {
     "name": "stdout",
     "output_type": "stream",
     "text": [
      "1.0\n"
     ]
    }
   ],
   "source": [
    "# Fill perfect joint distribution\n",
    "q_join = np.zeros(10**5)\n",
    "for i, u_i in enumerate(uniform):\n",
    "    if tuple(u_i) in combinations_set:\n",
    "        q_join[i] = 1. / len(combinations_set)\n",
    "print q_join.sum()"
   ]
  },
  {
   "cell_type": "code",
   "execution_count": 8,
   "metadata": {},
   "outputs": [
    {
     "name": "stdout",
     "output_type": "stream",
     "text": [
      "1.0000000000000002\n"
     ]
    }
   ],
   "source": [
    "# Fill perfect marginal distribution\n",
    "q_ind = np.zeros(10**5)\n",
    "for i, u_i in enumerate(uniform):\n",
    "    q_ind[i] = np.prod([marginals[u_i_j] for u_i_j in u_i])\n",
    "print q_ind.sum()"
   ]
  },
  {
   "cell_type": "code",
   "execution_count": 13,
   "metadata": {},
   "outputs": [],
   "source": [
    "# Fill uniform distribution\n",
    "q_uni = np.ones(10**5)\n",
    "q_uni /= q_uni.sum()"
   ]
  },
  {
   "cell_type": "code",
   "execution_count": 5,
   "metadata": {
    "scrolled": true
   },
   "outputs": [],
   "source": [
    "# Fast\n",
    "def get_nll(a, b, q):\n",
    "    nll = 0.\n",
    "    for i, y in enumerate(combinations):\n",
    "        log_arg = 0.\n",
    "\n",
    "        log_arg = q.dot(np.prod((uniform == y) * a + (uniform != y) * b, axis=1))\n",
    "\n",
    "        nll += -np.log(log_arg) / float(len(combinations))\n",
    "\n",
    "        if i % 500 == 0:\n",
    "            print '{}/{}'.format(i, len(combinations))\n",
    "            print 'combination', y\n",
    "            print 'nll', nll\n",
    "    return nll"
   ]
  },
  {
   "cell_type": "markdown",
   "metadata": {},
   "source": [
    "# Perfect image model"
   ]
  },
  {
   "cell_type": "code",
   "execution_count": null,
   "metadata": {},
   "outputs": [],
   "source": [
    "a = 1./6000.  # ~diracs on training set\n",
    "b = 0.  # not likelihood to bad digits"
   ]
  },
  {
   "cell_type": "code",
   "execution_count": 123,
   "metadata": {},
   "outputs": [
    {
     "name": "stdout",
     "output_type": "stream",
     "text": [
      "0/5631\n",
      "combination [0 0 7 9 9]\n",
      "nll 0.00925832286739577\n",
      "500/5631\n",
      "combination [1 5 9 7 3]\n",
      "nll 4.638419756565316\n",
      "1000/5631\n",
      "combination [2 6 7 3 7]\n",
      "nll 9.267581190263275\n",
      "1500/5631\n",
      "combination [3 6 2 7 7]\n",
      "nll 13.896742623961234\n",
      "2000/5631\n",
      "combination [4 4 8 9 0]\n",
      "nll 18.525904057659194\n",
      "2500/5631\n",
      "combination [5 2 8 9 1]\n",
      "nll 23.155065491357153\n",
      "3000/5631\n",
      "combination [5 9 7 4 0]\n",
      "nll 27.784226925055112\n",
      "3500/5631\n",
      "combination [6 7 4 3 5]\n",
      "nll 32.41338835875307\n",
      "4000/5631\n",
      "combination [7 4 9 3 2]\n",
      "nll 37.04254979245103\n",
      "4500/5631\n",
      "combination [8 2 5 1 9]\n",
      "nll 41.671711226148986\n",
      "5000/5631\n",
      "combination [9 0 0 9 7]\n",
      "nll 46.300872659846945\n",
      "5500/5631\n",
      "combination [9 7 0 5 4]\n",
      "nll 50.930034093544904\n",
      "52.133616066306374\n"
     ]
    }
   ],
   "source": [
    "nll_join = get_nll(a, b, q_join)\n",
    "print nll_join"
   ]
  },
  {
   "cell_type": "code",
   "execution_count": 122,
   "metadata": {},
   "outputs": [
    {
     "name": "stdout",
     "output_type": "stream",
     "text": [
      "0/5631\n",
      "combination [0 0 7 9 9]\n",
      "nll 0.009867725421967987\n",
      "500/5631\n",
      "combination [1 5 9 7 3]\n",
      "nll 4.901380586741098\n",
      "1000/5631\n",
      "combination [2 6 7 3 7]\n",
      "nll 9.78055439383192\n",
      "1500/5631\n",
      "combination [3 6 2 7 7]\n",
      "nll 14.65394538315527\n",
      "2000/5631\n",
      "combination [4 4 8 9 0]\n",
      "nll 19.523288202264716\n",
      "2500/5631\n",
      "combination [5 2 8 9 1]\n",
      "nll 24.39140705760259\n",
      "3000/5631\n",
      "combination [5 9 7 4 0]\n",
      "nll 29.255284277965057\n",
      "3500/5631\n",
      "combination [6 7 4 3 5]\n",
      "nll 34.12155291187345\n",
      "4000/5631\n",
      "combination [7 4 9 3 2]\n",
      "nll 38.995544088353604\n",
      "4500/5631\n",
      "combination [8 2 5 1 9]\n",
      "nll 43.87361336336889\n",
      "5000/5631\n",
      "combination [9 0 0 9 7]\n",
      "nll 48.75141814475452\n",
      "5500/5631\n",
      "combination [9 7 0 5 4]\n",
      "nll 53.63896196483282\n",
      "54.91244098275452\n"
     ]
    }
   ],
   "source": [
    "nll_ind = get_nll(a, b, q_ind)\n",
    "print nll_ind"
   ]
  },
  {
   "cell_type": "code",
   "execution_count": 126,
   "metadata": {},
   "outputs": [
    {
     "name": "stdout",
     "output_type": "stream",
     "text": [
      "Difference is 2.78 bits\n"
     ]
    }
   ],
   "source": [
    "print 'Difference is {:.2f} bits'.format(nll_ind - nll_join)"
   ]
  },
  {
   "cell_type": "markdown",
   "metadata": {},
   "source": [
    "# Slightly flawed image model"
   ]
  },
  {
   "cell_type": "code",
   "execution_count": 9,
   "metadata": {},
   "outputs": [],
   "source": [
    "a = 0.9 / 6000.\n",
    "b = 0.1 / 6000."
   ]
  },
  {
   "cell_type": "code",
   "execution_count": 10,
   "metadata": {},
   "outputs": [
    {
     "name": "stdout",
     "output_type": "stream",
     "text": [
      "0/5631\n",
      "combination [0 0 7 9 9]\n",
      "nll 0.009189741736744677\n",
      "500/5631\n",
      "combination [1 5 9 7 3]\n",
      "nll 4.599596732681784\n",
      "1000/5631\n",
      "combination [2 6 7 3 7]\n",
      "nll 9.187858579046145\n",
      "1500/5631\n",
      "combination [3 6 2 7 7]\n",
      "nll 13.77519999198052\n",
      "2000/5631\n",
      "combination [4 4 8 9 0]\n",
      "nll 18.36192118751578\n",
      "2500/5631\n",
      "combination [5 2 8 9 1]\n",
      "nll 22.948473742820912\n",
      "3000/5631\n",
      "combination [5 9 7 4 0]\n",
      "nll 27.534152581164488\n",
      "3500/5631\n",
      "combination [6 7 4 3 5]\n",
      "nll 32.12022143949179\n",
      "4000/5631\n",
      "combination [7 4 9 3 2]\n",
      "nll 36.707587934856726\n",
      "4500/5631\n",
      "combination [8 2 5 1 9]\n",
      "nll 41.29559541617429\n",
      "5000/5631\n",
      "combination [9 0 0 9 7]\n",
      "nll 45.883654857266116\n",
      "5500/5631\n",
      "combination [9 7 0 5 4]\n",
      "nll 50.47353558124406\n",
      "51.66728615469974\n"
     ]
    }
   ],
   "source": [
    "nll_join = get_nll(a, b, q_join)\n",
    "print nll_join"
   ]
  },
  {
   "cell_type": "code",
   "execution_count": 11,
   "metadata": {},
   "outputs": [
    {
     "name": "stdout",
     "output_type": "stream",
     "text": [
      "0/5631\n",
      "combination [0 0 7 9 9]\n",
      "nll 0.009279927782088892\n",
      "500/5631\n",
      "combination [1 5 9 7 3]\n",
      "nll 4.632917927024459\n",
      "1000/5631\n",
      "combination [2 6 7 3 7]\n",
      "nll 9.252323731343532\n",
      "1500/5631\n",
      "combination [3 6 2 7 7]\n",
      "nll 13.869551548164335\n",
      "2000/5631\n",
      "combination [4 4 8 9 0]\n",
      "nll 18.485028172173273\n",
      "2500/5631\n",
      "combination [5 2 8 9 1]\n",
      "nll 23.09972881367803\n",
      "3000/5631\n",
      "combination [5 9 7 4 0]\n",
      "nll 27.712595578207438\n",
      "3500/5631\n",
      "combination [6 7 4 3 5]\n",
      "nll 32.32625722007918\n",
      "4000/5631\n",
      "combination [7 4 9 3 2]\n",
      "nll 36.943087623260006\n",
      "4500/5631\n",
      "combination [8 2 5 1 9]\n",
      "nll 41.56144169261444\n",
      "5000/5631\n",
      "combination [9 0 0 9 7]\n",
      "nll 46.17997230658643\n",
      "5500/5631\n",
      "combination [9 7 0 5 4]\n",
      "nll 50.802807400563715\n",
      "52.00580738980117\n"
     ]
    }
   ],
   "source": [
    "nll_ind = get_nll(a, b, q_ind)\n",
    "print nll_ind"
   ]
  },
  {
   "cell_type": "code",
   "execution_count": 17,
   "metadata": {},
   "outputs": [
    {
     "name": "stdout",
     "output_type": "stream",
     "text": [
      "0/5631\n",
      "combination [0 0 7 9 9]\n",
      "nll 0.00976922379790821\n",
      "500/5631\n",
      "combination [1 5 9 7 3]\n",
      "nll 4.89438112275202\n",
      "1000/5631\n",
      "combination [2 6 7 3 7]\n",
      "nll 9.778993021706302\n",
      "1500/5631\n",
      "combination [3 6 2 7 7]\n",
      "nll 14.663604920660585\n",
      "2000/5631\n",
      "combination [4 4 8 9 0]\n",
      "nll 19.548216819614222\n",
      "2500/5631\n",
      "combination [5 2 8 9 1]\n",
      "nll 24.432828718567617\n",
      "3000/5631\n",
      "combination [5 9 7 4 0]\n",
      "nll 29.31744061752101\n",
      "3500/5631\n",
      "combination [6 7 4 3 5]\n",
      "nll 34.202052516475206\n",
      "4000/5631\n",
      "combination [7 4 9 3 2]\n",
      "nll 39.08666441543038\n",
      "4500/5631\n",
      "combination [8 2 5 1 9]\n",
      "nll 43.97127631438555\n",
      "5000/5631\n",
      "combination [9 0 0 9 7]\n",
      "nll 48.85588821334072\n",
      "5500/5631\n",
      "combination [9 7 0 5 4]\n",
      "nll 53.74050011229589\n",
      "55.010499206024235\n"
     ]
    }
   ],
   "source": [
    "nll_uni = get_nll(a, b, q_uni)\n",
    "print nll_uni"
   ]
  },
  {
   "cell_type": "code",
   "execution_count": 12,
   "metadata": {},
   "outputs": [
    {
     "name": "stdout",
     "output_type": "stream",
     "text": [
      "Difference is 0.34 bits\n"
     ]
    }
   ],
   "source": [
    "print 'Difference is {:.2f} bits'.format(nll_ind - nll_join)"
   ]
  },
  {
   "cell_type": "markdown",
   "metadata": {},
   "source": [
    "# Generate perfect digits randomly"
   ]
  },
  {
   "cell_type": "code",
   "execution_count": 18,
   "metadata": {},
   "outputs": [],
   "source": [
    "a = b = 1. / 60000."
   ]
  },
  {
   "cell_type": "code",
   "execution_count": 16,
   "metadata": {},
   "outputs": [
    {
     "name": "stdout",
     "output_type": "stream",
     "text": [
      "0/5631\n",
      "combination [0 0 7 9 9]\n",
      "nll 0.009769223797908221\n",
      "500/5631\n",
      "combination [1 5 9 7 3]\n",
      "nll 4.894381122752021\n",
      "1000/5631\n",
      "combination [2 6 7 3 7]\n",
      "nll 9.778993021706304\n",
      "1500/5631\n",
      "combination [3 6 2 7 7]\n",
      "nll 14.663604920660587\n",
      "2000/5631\n",
      "combination [4 4 8 9 0]\n",
      "nll 19.548216819614225\n",
      "2500/5631\n",
      "combination [5 2 8 9 1]\n",
      "nll 24.43282871856762\n",
      "3000/5631\n",
      "combination [5 9 7 4 0]\n",
      "nll 29.317440617521015\n",
      "3500/5631\n",
      "combination [6 7 4 3 5]\n",
      "nll 34.20205251647521\n",
      "4000/5631\n",
      "combination [7 4 9 3 2]\n",
      "nll 39.086664415430384\n",
      "4500/5631\n",
      "combination [8 2 5 1 9]\n",
      "nll 43.971276314385555\n",
      "5000/5631\n",
      "combination [9 0 0 9 7]\n",
      "nll 48.85588821334073\n",
      "5500/5631\n",
      "combination [9 7 0 5 4]\n",
      "nll 53.7405001122959\n",
      "55.01049920602424\n"
     ]
    }
   ],
   "source": [
    "nll_join = get_nll(a, b, q_join)\n",
    "print nll_join"
   ]
  },
  {
   "cell_type": "code",
   "execution_count": 19,
   "metadata": {},
   "outputs": [
    {
     "name": "stdout",
     "output_type": "stream",
     "text": [
      "0/5631\n",
      "combination [0 0 7 9 9]\n",
      "nll 0.009769223797908221\n",
      "500/5631\n",
      "combination [1 5 9 7 3]\n",
      "nll 4.894381122752021\n",
      "1000/5631\n",
      "combination [2 6 7 3 7]\n",
      "nll 9.778993021706304\n",
      "1500/5631\n",
      "combination [3 6 2 7 7]\n",
      "nll 14.663604920660587\n",
      "2000/5631\n",
      "combination [4 4 8 9 0]\n",
      "nll 19.548216819614225\n",
      "2500/5631\n",
      "combination [5 2 8 9 1]\n",
      "nll 24.43282871856762\n",
      "3000/5631\n",
      "combination [5 9 7 4 0]\n",
      "nll 29.317440617521015\n",
      "3500/5631\n",
      "combination [6 7 4 3 5]\n",
      "nll 34.20205251647521\n",
      "4000/5631\n",
      "combination [7 4 9 3 2]\n",
      "nll 39.086664415430384\n",
      "4500/5631\n",
      "combination [8 2 5 1 9]\n",
      "nll 43.971276314385555\n",
      "5000/5631\n",
      "combination [9 0 0 9 7]\n",
      "nll 48.85588821334073\n",
      "5500/5631\n",
      "combination [9 7 0 5 4]\n",
      "nll 53.7405001122959\n",
      "55.01049920602424\n"
     ]
    }
   ],
   "source": [
    "nll_ind = get_nll(a, b, q_ind)\n",
    "print nll_ind"
   ]
  },
  {
   "cell_type": "code",
   "execution_count": null,
   "metadata": {},
   "outputs": [],
   "source": []
  }
 ],
 "metadata": {
  "kernelspec": {
   "display_name": "Python 2",
   "language": "python",
   "name": "python2"
  },
  "language_info": {
   "codemirror_mode": {
    "name": "ipython",
    "version": 2
   },
   "file_extension": ".py",
   "mimetype": "text/x-python",
   "name": "python",
   "nbconvert_exporter": "python",
   "pygments_lexer": "ipython2",
   "version": "2.7.15"
  }
 },
 "nbformat": 4,
 "nbformat_minor": 2
}
