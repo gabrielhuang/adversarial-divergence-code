{
 "cells": [
  {
   "cell_type": "code",
   "execution_count": 7,
   "metadata": {},
   "outputs": [],
   "source": [
    "import numpy as np\n",
    "from coins import generate_combinations\n",
    "from itertools import product\n",
    "\n"
   ]
  },
  {
   "cell_type": "code",
   "execution_count": 125,
   "metadata": {},
   "outputs": [
    {
     "name": "stdout",
     "output_type": "stream",
     "text": [
      "Marginals [0.06180075 0.07369917 0.08524241 0.09589771 0.1051323  0.11241343\n",
      " 0.11720831 0.11898419 0.11720831 0.11241343]\n",
      "Got 5631 combinations out of 10^5=100000\n",
      "Ratio is 0.05631\n",
      "Uniform entropy 11.51 bits\n",
      "Marginal entropy 11.41 bits\n",
      "Joint entropy 8.64 bits\n",
      "Difference is 2.78 bits\n"
     ]
    }
   ],
   "source": [
    "uniform = np.asarray(list(product(range(10),range(10),range(10),range(10),range(10))))\n",
    "combinations = np.asarray(generate_combinations(25, range(10), 5))\n",
    "combinations_set = set(tuple(c) for c in combinations)\n",
    "\n",
    "marginals = np.zeros(10)\n",
    "for i in xrange(10):\n",
    "    marginals[i] = (combinations==i).mean()\n",
    "print 'Marginals', marginals\n",
    "print 'Got {} combinations out of 10^5=100000'.format(len(combinations))\n",
    "print 'Ratio is {}'.format(len(combinations) / 10.**5)\n",
    "print 'Uniform entropy {:.2f} bits'.format(np.log(10.**5))\n",
    "marginal_entropy = -5 * np.sum(marginals * np.log(marginals))\n",
    "print 'Marginal entropy {:.2f} bits'.format(marginal_entropy)\n",
    "joint_entropy = np.log(len(combinations))\n",
    "print 'Joint entropy {:.2f} bits'.format(joint_entropy)\n",
    "\n",
    "print 'Difference is {:.2f} bits'.format(marginal_entropy - joint_entropy)"
   ]
  },
  {
   "cell_type": "markdown",
   "metadata": {},
   "source": [
    "## Symbolic\n",
    "The entropy is the lowest negative-log-likelihood one can expect (when the model matches the true distribution).\n",
    "So, given symbolic-sum-25 distribution, the best nll we can expect is 8.64 bits.\n",
    "\n",
    "Another perspective: marginal entropy is the best nll one can expect from a independent model (interestingly it's almost the same as the uniform).\n",
    "\n",
    "N is the number of combinations (5631), i is the combination index (0 to 5630), j is the digit index (0 to 4).\n",
    "\n",
    "NLL Joint: $$ E_p[-\\log q(z)] = \\frac 1 N \\sum_i -\\log q(z) \\approx 11.41$$\n",
    "NLL Marginal: $$ E_p[-\\log q(z)] = E_p[-\\sum_j \\log q_j(z_j)] \\approx 8.64$$\n",
    "\n",
    "## Images\n",
    "Now let's look into using images. We factor the model as $q(x) = q(z) \\prod_i q(x_i|z_i)$. Then we need to marginalize wrt $z$ because it is an unobserved variable.\n",
    "\n",
    "NLL Joint: $$ E_p[- \\log \\sum_z q(z) \\prod_j q(x_j|z_j)] $$\n",
    "NLL Marginal: $$ E_p[- \\log \\sum_z \\prod_j q(z_j) q(x_j|z_j)]$$\n",
    "E_p[- \\log \\prod_j \\sum_{z_0} q(z_0) q(x_0|z_0)] = - 5 * NLL-Single-Model$$.\n",
    "\n",
    "## Simplifying assumption of good and bad images\n",
    "Let's make a simplifying assumption that:\n",
    "- if $y_j=z_j$ then $q(x_j|z_j)=a$\n",
    "- else if $y_j\\neq z_j$ then $q(x_j|z_j)=b$.\n",
    "\n",
    "Then we have\n",
    "\n",
    "NLL Joint: $$ E_{y\\sim p(y)}[- \\log \\sum_z q(z) \\prod_j (a*1_{z_j=y_j} + b*1_{z_j\\neq y_j})] $$\n",
    "\n",
    "## Perfect image model\n",
    "Suppose we got the \"perfect\" conditional image model, which is uniform over 6000 images of given class.\n",
    "Then $a=1/6000$ and $b=0$.\n",
    "\n",
    "We get a difference of 2.78 bits in that case, exactly like the symbolic case (since images are either assigned perfect score or none).\n",
    "\n",
    "We have: \n",
    "\n",
    "NLL Joint: $$ E_{y\\sim p(y)}[- \\log (q(z) a^5)] = -5 \\log a + E_{y\\sim p(y)}[-\\log q(z)] $$\n",
    "which is 43 + Symbolic_NLL.\n",
    "\n",
    "Indeed this result is confirmed by the numerical results with a=1/6000 and b=0\n",
    "\n",
    "## Perfect symbolic model\n",
    "\n",
    "NLL Joint: $$ E_{y\\sim p(y)}[- \\log \\sum_z p(z) \\prod_j (a*1_{z_j=y_j} + b*1_{z_j\\neq y_j})] \n",
    "= \\frac 1 N \\sum_{k=1}^N [ - \\log \\frac 1 N \\sum_{i=1}^N \\prod_j (a*1_{z_j^i=y_j^k} + b*1_{z_j^i\\neq y_j^k})] $$\n",
    "\n",
    "\n"
   ]
  },
  {
   "cell_type": "code",
   "execution_count": 81,
   "metadata": {},
   "outputs": [
    {
     "name": "stdout",
     "output_type": "stream",
     "text": [
      "1.0\n"
     ]
    }
   ],
   "source": [
    "# Fill perfect joint distribution\n",
    "q_join = np.zeros(10**5)\n",
    "for i, u_i in enumerate(uniform):\n",
    "    if tuple(u_i) in combinations_set:\n",
    "        q_join[i] = 1. / len(combinations_set)\n",
    "print q_join.sum()"
   ]
  },
  {
   "cell_type": "code",
   "execution_count": 80,
   "metadata": {},
   "outputs": [
    {
     "name": "stdout",
     "output_type": "stream",
     "text": [
      "1.0000000000000002\n"
     ]
    }
   ],
   "source": [
    "# Fill perfect marginal distribution\n",
    "q_ind = np.zeros(10**5)\n",
    "for i, u_i in enumerate(uniform):\n",
    "    q_ind[i] = np.prod([marginals[u_i_j] for u_i_j in u_i])\n",
    "print q_ind.sum()"
   ]
  },
  {
   "cell_type": "code",
   "execution_count": 120,
   "metadata": {
    "scrolled": true
   },
   "outputs": [],
   "source": [
    "# Fast\n",
    "def get_nll(a, b, q):\n",
    "    nll = 0.\n",
    "    for i, y in enumerate(combinations):\n",
    "        log_arg = 0.\n",
    "\n",
    "        log_arg = q.dot(np.prod((uniform == y) * a + (uniform != y) * b, axis=1))\n",
    "\n",
    "        nll += -np.log(log_arg) / float(len(combinations))\n",
    "\n",
    "        if i % 500 == 0:\n",
    "            print '{}/{}'.format(i, len(combinations))\n",
    "            print 'combination', y\n",
    "            print 'nll', nll\n",
    "    return nll"
   ]
  },
  {
   "cell_type": "code",
   "execution_count": 123,
   "metadata": {},
   "outputs": [
    {
     "name": "stdout",
     "output_type": "stream",
     "text": [
      "0/5631\n",
      "combination [0 0 7 9 9]\n",
      "nll 0.00925832286739577\n",
      "500/5631\n",
      "combination [1 5 9 7 3]\n",
      "nll 4.638419756565316\n",
      "1000/5631\n",
      "combination [2 6 7 3 7]\n",
      "nll 9.267581190263275\n",
      "1500/5631\n",
      "combination [3 6 2 7 7]\n",
      "nll 13.896742623961234\n",
      "2000/5631\n",
      "combination [4 4 8 9 0]\n",
      "nll 18.525904057659194\n",
      "2500/5631\n",
      "combination [5 2 8 9 1]\n",
      "nll 23.155065491357153\n",
      "3000/5631\n",
      "combination [5 9 7 4 0]\n",
      "nll 27.784226925055112\n",
      "3500/5631\n",
      "combination [6 7 4 3 5]\n",
      "nll 32.41338835875307\n",
      "4000/5631\n",
      "combination [7 4 9 3 2]\n",
      "nll 37.04254979245103\n",
      "4500/5631\n",
      "combination [8 2 5 1 9]\n",
      "nll 41.671711226148986\n",
      "5000/5631\n",
      "combination [9 0 0 9 7]\n",
      "nll 46.300872659846945\n",
      "5500/5631\n",
      "combination [9 7 0 5 4]\n",
      "nll 50.930034093544904\n",
      "52.133616066306374\n"
     ]
    }
   ],
   "source": [
    "a = 1./6000.\n",
    "b = 0.\n",
    "q = q_join\n",
    "nll_join = get_nll(a, b, q_join)\n",
    "print nll_join"
   ]
  },
  {
   "cell_type": "code",
   "execution_count": 122,
   "metadata": {},
   "outputs": [
    {
     "name": "stdout",
     "output_type": "stream",
     "text": [
      "0/5631\n",
      "combination [0 0 7 9 9]\n",
      "nll 0.009867725421967987\n",
      "500/5631\n",
      "combination [1 5 9 7 3]\n",
      "nll 4.901380586741098\n",
      "1000/5631\n",
      "combination [2 6 7 3 7]\n",
      "nll 9.78055439383192\n",
      "1500/5631\n",
      "combination [3 6 2 7 7]\n",
      "nll 14.65394538315527\n",
      "2000/5631\n",
      "combination [4 4 8 9 0]\n",
      "nll 19.523288202264716\n",
      "2500/5631\n",
      "combination [5 2 8 9 1]\n",
      "nll 24.39140705760259\n",
      "3000/5631\n",
      "combination [5 9 7 4 0]\n",
      "nll 29.255284277965057\n",
      "3500/5631\n",
      "combination [6 7 4 3 5]\n",
      "nll 34.12155291187345\n",
      "4000/5631\n",
      "combination [7 4 9 3 2]\n",
      "nll 38.995544088353604\n",
      "4500/5631\n",
      "combination [8 2 5 1 9]\n",
      "nll 43.87361336336889\n",
      "5000/5631\n",
      "combination [9 0 0 9 7]\n",
      "nll 48.75141814475452\n",
      "5500/5631\n",
      "combination [9 7 0 5 4]\n",
      "nll 53.63896196483282\n",
      "54.91244098275452\n"
     ]
    }
   ],
   "source": [
    "a = 1./6000.\n",
    "b = 0.\n",
    "nll_ind = get_nll(a, b, q_ind)\n",
    "print nll_ind"
   ]
  },
  {
   "cell_type": "code",
   "execution_count": 126,
   "metadata": {},
   "outputs": [
    {
     "name": "stdout",
     "output_type": "stream",
     "text": [
      "Difference is 2.78 bits\n"
     ]
    }
   ],
   "source": [
    "print 'Difference is {:.2f} bits'.format(nll_ind - nll_join)"
   ]
  },
  {
   "cell_type": "code",
   "execution_count": 76,
   "metadata": {},
   "outputs": [
    {
     "data": {
      "text/plain": [
       "9.015059200818782e-07"
      ]
     },
     "execution_count": 76,
     "metadata": {},
     "output_type": "execute_result"
    }
   ],
   "source": [
    "# Slow\n",
    "q = {tuple(y): 1. / len(combinations) for y in combinations}\n",
    "nll = 0.\n",
    "for i, y in enumerate(combinations):\n",
    "    log_arg = 0.\n",
    "    print 'combination', y\n",
    "    print '{}/{}'.format(i, len(combinations))\n",
    "    for z in uniform:\n",
    "        \n",
    "        np.prod((uniform == [0, 0, 1, 0, 1]) * a + (uniform != [0, 0, 1, 0, 1]) *  , axis=1)\n",
    "        \n",
    "        visual_prob = 1.\n",
    "        for j in xrange(5):\n",
    "            if y[j] == z[j]:\n",
    "                visual_prob *= a\n",
    "            else:\n",
    "                visual_prob *= b\n",
    "        log_arg += q.get(tuple(y), 0.) * visual_prob\n",
    "    nll += -np.log(log_arg)"
   ]
  },
  {
   "cell_type": "code",
   "execution_count": 94,
   "metadata": {},
   "outputs": [
    {
     "data": {
      "text/plain": [
       "array([9.73626394e-05, 1.74161618e-04, 1.34293296e-04, ...,\n",
       "       6.08011767e-04, 5.98936965e-04, 5.74434998e-04])"
      ]
     },
     "execution_count": 94,
     "metadata": {},
     "output_type": "execute_result"
    }
   ],
   "source": [
    "q * np.prod((uniform == [0, 0, 1, 0, 1]) * 3 + (uniform != [0, 0, 1, 0, 1]) * 2, axis=1)"
   ]
  },
  {
   "cell_type": "code",
   "execution_count": 87,
   "metadata": {},
   "outputs": [
    {
     "data": {
      "text/plain": [
       "array([[ True,  True, False,  True, False],\n",
       "       [ True,  True, False,  True,  True],\n",
       "       [ True,  True, False,  True, False],\n",
       "       ...,\n",
       "       [False, False, False, False, False],\n",
       "       [False, False, False, False, False],\n",
       "       [False, False, False, False, False]])"
      ]
     },
     "execution_count": 87,
     "metadata": {},
     "output_type": "execute_result"
    }
   ],
   "source": [
    "np.equal(uniform, [0,0,1,0,1])"
   ]
  }
 ],
 "metadata": {
  "kernelspec": {
   "display_name": "Python 2",
   "language": "python",
   "name": "python2"
  },
  "language_info": {
   "codemirror_mode": {
    "name": "ipython",
    "version": 2
   },
   "file_extension": ".py",
   "mimetype": "text/x-python",
   "name": "python",
   "nbconvert_exporter": "python",
   "pygments_lexer": "ipython2",
   "version": "2.7.14"
  }
 },
 "nbformat": 4,
 "nbformat_minor": 2
}
