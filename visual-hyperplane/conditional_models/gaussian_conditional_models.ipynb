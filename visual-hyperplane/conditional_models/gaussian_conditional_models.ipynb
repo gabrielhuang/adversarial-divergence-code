{
 "cells": [
  {
   "cell_type": "code",
   "execution_count": 16,
   "metadata": {},
   "outputs": [],
   "source": [
    "from torchvision import datasets, transforms\n",
    "import torch"
   ]
  },
  {
   "cell_type": "code",
   "execution_count": 14,
   "metadata": {},
   "outputs": [],
   "source": [
    "transform=transforms.Compose([\n",
    "                           transforms.ToTensor(),\n",
    "                       ])\n",
    "train = datasets.MNIST('data', download=True, transform=transform)\n",
    "test = datasets.MNIST('data', download=True, transform=transform, train=False)"
   ]
  },
  {
   "cell_type": "code",
   "execution_count": 38,
   "metadata": {},
   "outputs": [],
   "source": [
    "# Learn Gaussian Diagonal Model\n",
    "means = {}\n",
    "means2 = {}\n",
    "counts = {}\n",
    "var = {}\n",
    "for i in xrange(10):\n",
    "    means[i] = torch.zeros(28*28)\n",
    "    means2[i] = torch.zeros(28*28)\n",
    "    counts[i] = 0\n",
    "for i, (data, label) in enumerate(train):\n",
    "    means[label.item()] += data.view(-1)\n",
    "    means2[label.item()] += data.view(-1)**2\n",
    "    counts[label.item()] += 1\n",
    "for i in xrange(10):\n",
    "    means[i] /= float(counts[i])\n",
    "    means2[i] /= float(counts[i])\n",
    "    var[i] = means2[i] - means[i]**2"
   ]
  },
  {
   "cell_type": "code",
   "execution_count": 48,
   "metadata": {},
   "outputs": [],
   "source": [
    "# Learn Gaussian Full-Cov model\n",
    "fullvar = {}\n",
    "meanmeanT = {}\n",
    "for i in xrange(10):\n",
    "    meanmeanT[i] = torch.zeros((28*28, 28*28))\n",
    "for i, (data, label) in enumerate(train):\n",
    "    meanmeanT[label.item()] += torch.ger(data.view(-1), data.view(-1))\n",
    "for i in xrange(10):\n",
    "    meanmeanT[i] /= float(counts[i])\n",
    "    fullvar[i] = meanmeanT[i] - torch.ger(means[i], means[i])"
   ]
  },
  {
   "cell_type": "code",
   "execution_count": 45,
   "metadata": {},
   "outputs": [
    {
     "data": {
      "text/plain": [
       "Text(0.5,1,'Mean')"
      ]
     },
     "execution_count": 45,
     "metadata": {},
     "output_type": "execute_result"
    },
    {
     "data": {
      "image/png": "[encoded data removed]",
      "text/plain": [
       "<Figure size 432x288 with 1 Axes>"
      ]
     },
     "metadata": {},
     "output_type": "display_data"
    }
   ],
   "source": [
    "import matplotlib.pyplot as plt\n",
    "\n",
    "plt.imshow(means[2].view((28, 28)).numpy())\n",
    "plt.title('Mean')"
   ]
  },
  {
   "cell_type": "code",
   "execution_count": 46,
   "metadata": {},
   "outputs": [
    {
     "data": {
      "text/plain": [
       "Text(0.5,1,'Variance')"
      ]
     },
     "execution_count": 46,
     "metadata": {},
     "output_type": "execute_result"
    },
    {
     "data": {
      "image/png": "[encoded data removed]",
      "text/plain": [
       "<Figure size 432x288 with 1 Axes>"
      ]
     },
     "metadata": {},
     "output_type": "display_data"
    }
   ],
   "source": [
    "plt.imshow(var[2].view((28, 28)).numpy())\n",
    "plt.title('Variance')"
   ]
  },
  {
   "cell_type": "code",
   "execution_count": 49,
   "metadata": {},
   "outputs": [
    {
     "data": {
      "text/plain": [
       "Text(0.5,1,'Variance')"
      ]
     },
     "execution_count": 49,
     "metadata": {},
     "output_type": "execute_result"
    },
    {
     "data": {
      "image/png": "[encoded data removed]",
      "text/plain": [
       "<Figure size 432x288 with 1 Axes>"
      ]
     },
     "metadata": {},
     "output_type": "display_data"
    }
   ],
   "source": [
    "import numpy as np\n",
    "plt.imshow(np.diag(fullvar[2].numpy()).reshape((28, 28)))\n",
    "plt.title('Variance')"
   ]
  },
  {
   "cell_type": "code",
   "execution_count": 82,
   "metadata": {},
   "outputs": [],
   "source": [
    "# Sample from models\n",
    "import scipy.linalg\n",
    "cholesky = {}\n",
    "for i in xrange(10):\n",
    "    eigval, eigvec = scipy.linalg.eigh(fullvar[i].numpy())\n",
    "    C = eigvec.dot(np.diag(np.sqrt(np.maximum(eigval, 0))))\n",
    "    cholesky[i] = torch.FloatTensor(C)"
   ]
  },
  {
   "cell_type": "code",
   "execution_count": 83,
   "metadata": {},
   "outputs": [],
   "source": [
    "models = {\n",
    "    'mean': means,\n",
    "    'var': var,\n",
    "    'fullvar': fullvar,\n",
    "    'cholesky': cholesky\n",
    "}\n",
    "torch.save(models, 'models.pkl')"
   ]
  },
  {
   "cell_type": "code",
   "execution_count": 283,
   "metadata": {},
   "outputs": [
    {
     "data": {
      "text/plain": [
       "<matplotlib.image.AxesImage at 0x122cd1790>"
      ]
     },
     "execution_count": 283,
     "metadata": {},
     "output_type": "execute_result"
    },
    {
     "data": {
      "image/png": "[encoded data removed]",
      "text/plain": [
       "<Figure size 432x288 with 1 Axes>"
      ]
     },
     "metadata": {},
     "output_type": "display_data"
    }
   ],
   "source": [
    "# Sample from full gaussian\n",
    "def sample_full(digit, means, cholesky):\n",
    "    z = torch.randn(len(cholesky[digit]))\n",
    "    x = means[digit] + cholesky[digit].matmul(z)\n",
    "    return x\n",
    "\n",
    "sample = sample_full(8, means, cholesky)\n",
    "plt.imshow(sample.view((28, 28)).numpy(), cmap='gray')"
   ]
  },
  {
   "cell_type": "code",
   "execution_count": 285,
   "metadata": {},
   "outputs": [
    {
     "name": "stdout",
     "output_type": "stream",
     "text": [
      "torch.Size([784])\n"
     ]
    },
    {
     "data": {
      "text/plain": [
       "<matplotlib.image.AxesImage at 0x122e72390>"
      ]
     },
     "execution_count": 285,
     "metadata": {},
     "output_type": "execute_result"
    },
    {
     "data": {
      "image/png": "[encoded data removed]",
      "text/plain": [
       "<Figure size 432x288 with 1 Axes>"
      ]
     },
     "metadata": {},
     "output_type": "display_data"
    }
   ],
   "source": [
    "# Sample from diagonal gaussian\n",
    "def sample_diag(digit, means, var):\n",
    "    z = torch.randn(len(var[digit]))\n",
    "    x = means[digit] + torch.sqrt(var[digit]) * z\n",
    "    print (torch.sqrt(var[digit])).size()\n",
    "    return x\n",
    "\n",
    "sample = sample_diag(8, means, var)\n",
    "plt.imshow(sample.view((28, 28)).numpy(), cmap='gray')"
   ]
  }
 ],
 "metadata": {
  "kernelspec": {
   "display_name": "Python 2",
   "language": "python",
   "name": "python2"
  },
  "language_info": {
   "codemirror_mode": {
    "name": "ipython",
    "version": 2
   },
   "file_extension": ".py",
   "mimetype": "text/x-python",
   "name": "python",
   "nbconvert_exporter": "python",
   "pygments_lexer": "ipython2",
   "version": "2.7.15"
  }
 },
 "nbformat": 4,
 "nbformat_minor": 2
}
