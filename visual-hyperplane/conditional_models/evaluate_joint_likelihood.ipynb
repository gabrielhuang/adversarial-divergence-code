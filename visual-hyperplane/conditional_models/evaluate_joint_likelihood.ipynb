{
 "cells": [
  {
   "cell_type": "code",
   "execution_count": 1,
   "metadata": {},
   "outputs": [],
   "source": [
    "import sys\n",
    "sys.path.append('..')\n",
    "import torch\n",
    "from torchvision import datasets, transforms\n",
    "from models import VAE, loss_function\n",
    "from problems import get_problem\n",
    "import numpy as np\n",
    "import matplotlib.pyplot as plt\n",
    "%matplotlib inline\n",
    "\n",
    "p = get_problem('sum_25', 'int', train_ratio=1.)\n",
    "\n",
    "def get_digit(digit, train):\n",
    "    test_digits = []\n",
    "    for data, label in datasets.MNIST('../data', train=train, download=True, transform=transforms.ToTensor()):\n",
    "        if digit == -1 or label.item() == digit:\n",
    "            test_digits.append((data, label))\n",
    "    return test_digits"
   ]
  },
  {
   "cell_type": "code",
   "execution_count": 2,
   "metadata": {},
   "outputs": [],
   "source": [
    "# Load some problems\n",
    "uniform = get_problem('uniform', 'int', train_ratio=1.)\n",
    "sum_25 = get_problem('sum_25', 'int', train_ratio=1.)\n",
    "increasing = get_problem('increasing', 'int', train_ratio=1.)\n",
    "symmetric = get_problem('symmetric', 'int', train_ratio=1.)\n",
    "even = get_problem('even', 'int', train_ratio=1.)"
   ]
  },
  {
   "cell_type": "code",
   "execution_count": 332,
   "metadata": {},
   "outputs": [],
   "source": [
    "# Load all Gaussians\n",
    "gaussian_models = torch.load('gaussian_models.pkl')\n",
    "gaussian_models['mean']\n",
    "\n",
    "# Sample from diagonal gaussian\n",
    "def sample_diag(digit, means, var):\n",
    "    z = torch.randn(len(var[digit]))\n",
    "    x = means[digit] + torch.sqrt(var[digit]) * z\n",
    "    print (torch.sqrt(var[digit])).size()\n",
    "    return x\n",
    "\n",
    "# Sample from full gaussian\n",
    "def sample_full(digit, means, cholesky):\n",
    "    z = torch.randn(len(cholesky[digit]))\n",
    "    x = means[digit] + cholesky[digit].matmul(z)\n",
    "    return x\n",
    "\n",
    "sample = sample_full(8, gaussian_models['mean'], gaussian_models['cholesky'])\n",
    "\n",
    "import scipy.stats\n",
    "gaussians = {}\n",
    "REGULARIZATION = 1e-3\n",
    "for i in xrange(10):\n",
    "    gaussian = scipy.stats.multivariate_normal(mean=gaussian_models['mean'][i],\n",
    "                                   cov=np.identity(784)*REGULARIZATION + gaussian_models['fullvar'][i])\n",
    "    gaussians[i] = gaussian\n",
    "    \n",
    "sample = sample_full(2, gaussian_models['mean'], gaussian_models['cholesky'])\n",
    "gaussians[3].logpdf(sample)\n",
    "\n",
    "# Build visual models (from Full Gaussians)\n",
    "def create_visual_model(digit_idx, gaussian_models, REGULARIZATION=1e-3):\n",
    "    gaussian = scipy.stats.multivariate_normal(mean=gaussian_models['mean'][digit_idx],\n",
    "                                       cov=np.identity(784)*REGULARIZATION + gaussian_models['fullvar'][digit_idx])\n",
    "    def visual_model(digit_image):\n",
    "        x = digit_image.view(-1)\n",
    "        nll = - gaussian.logpdf(x)\n",
    "        return nll\n",
    "    return visual_model\n",
    "visual_models = [create_visual_model(i, gaussian_models) for i in xrange(10)]"
   ]
  },
  {
   "cell_type": "code",
   "execution_count": 287,
   "metadata": {},
   "outputs": [
    {
     "data": {
      "text/plain": [
       "<matplotlib.image.AxesImage at 0x1098975d0>"
      ]
     },
     "execution_count": 287,
     "metadata": {},
     "output_type": "execute_result"
    },
    {
     "data": {
      "image/png": "[encoded data removed]",
      "text/plain": [
       "<Figure size 432x288 with 1 Axes>"
      ]
     },
     "metadata": {},
     "output_type": "display_data"
    }
   ],
   "source": [
    "plt.imshow(sample.numpy().reshape(28,28), cmap='gray')"
   ]
  },
  {
   "cell_type": "code",
   "execution_count": 3,
   "metadata": {},
   "outputs": [],
   "source": [
    "# Load all VAES\n",
    "vaes = {}\n",
    "#EPOCH = 80\n",
    "EPOCH = 70\n",
    "for i in xrange(10):\n",
    "    vae = VAE()\n",
    "    state_dict = torch.load('epoch_{}/digit_{}_epoch_{}.pth'.format(EPOCH, i, EPOCH))\n",
    "    vae.load_state_dict(state_dict)\n",
    "    vaes[i] = vae\n",
    "    \n",
    "# Build visual models (from VAEs)\n",
    "def create_visual_model(digit_idx, vaes):\n",
    "    def visual_model(digit_image):\n",
    "        x = digit_image.view((1, 1, 28, 28))\n",
    "        reconstruction, mu, logvar = vaes[digit_idx](x)\n",
    "        nll = loss_function(reconstruction, x, mu, logvar)\n",
    "        return nll\n",
    "    return visual_model\n",
    "visual_models = [create_visual_model(i, vaes) for i in xrange(10)]"
   ]
  },
  {
   "cell_type": "code",
   "execution_count": 4,
   "metadata": {},
   "outputs": [
    {
     "name": "stdout",
     "output_type": "stream",
     "text": [
      "Loading digit 0\n",
      "Loading digit 1\n",
      "Loading digit 2\n",
      "Loading digit 3\n",
      "Loading digit 4\n",
      "Loading digit 5\n",
      "Loading digit 6\n",
      "Loading digit 7\n",
      "Loading digit 8\n",
      "Loading digit 9\n",
      "torch.Size([28, 28])\n"
     ]
    }
   ],
   "source": [
    "# Load all MNISTs\n",
    "batch_size = 1\n",
    "\n",
    "# Load all MNIST digits\n",
    "test_digits = {}\n",
    "test_loaders = {}\n",
    "for i in xrange(10):\n",
    "    print 'Loading digit', i\n",
    "    test_digit = get_digit(i, train=False)\n",
    "    test_digits[i] = test_digit\n",
    "    \n",
    "    test_loader = torch.utils.data.DataLoader(test_digit, batch_size=batch_size, shuffle=True)\n",
    "    test_loaders[i] = test_loader\n",
    "    \n",
    "# Build visual samplers (from test set)\n",
    "def create_visual_sampler(i, test_loaders):\n",
    "    def visual_sampler():\n",
    "        return iter(test_loaders[int(i)]).next()[0][0,0]\n",
    "    return visual_sampler\n",
    "visual_samplers = [create_visual_sampler(i, test_loaders) for i in xrange(10)]\n",
    "\n",
    "print visual_samplers[8]().size()"
   ]
  },
  {
   "cell_type": "markdown",
   "metadata": {},
   "source": [
    "# Symbolic Combination to Image Combination"
   ]
  },
  {
   "cell_type": "code",
   "execution_count": 5,
   "metadata": {},
   "outputs": [
    {
     "name": "stdout",
     "output_type": "stream",
     "text": [
      "Size torch.Size([5, 28, 28])\n"
     ]
    },
    {
     "data": {
      "image/png": "[encoded data removed]",
      "text/plain": [
       "<Figure size 432x288 with 5 Axes>"
      ]
     },
     "metadata": {},
     "output_type": "display_data"
    }
   ],
   "source": [
    "# Combination to Visual\n",
    "def to_visual(combination, visual_samplers):\n",
    "    '''\n",
    "    Sample a visual representation for a symbolic combination\n",
    "    \n",
    "    Parameters\n",
    "    ----------\n",
    "    combination: np.ndarray (part~5) combination to encode\n",
    "    visual_samplers: dict of 10 callable objects which return a random corresponding (28, 28) digit\n",
    "    \n",
    "    Returns\n",
    "    -------\n",
    "    visual_combination: torch.Tensor (part~5, height~28, width~28)\n",
    "    '''\n",
    "    x = []\n",
    "    for c in combination:\n",
    "        sample = visual_samplers[c]()\n",
    "        x.append(sample[None, :, :])\n",
    "    visual_combination = torch.cat(x)\n",
    "    return visual_combination\n",
    "\n",
    "# Test: combination to visual_combination    \n",
    "visual_combination = to_visual([3, 1, 4, 1, 5], visual_samplers)\n",
    "\n",
    "print 'Size', visual_combination.size()\n",
    "for i in xrange(5):\n",
    "    plt.subplot(1,5,i+1)\n",
    "    plt.imshow(visual_combination[i].numpy(), cmap='gray')"
   ]
  },
  {
   "cell_type": "markdown",
   "metadata": {},
   "source": [
    "# Likelihood of Sum-25 with Joint generator"
   ]
  },
  {
   "cell_type": "code",
   "execution_count": 6,
   "metadata": {},
   "outputs": [
    {
     "data": {
      "text/plain": [
       "<matplotlib.colorbar.Colorbar at 0x1143ca2d0>"
      ]
     },
     "execution_count": 6,
     "metadata": {},
     "output_type": "execute_result"
    },
    {
     "data": {
      "image/png": "[encoded data removed]",
      "text/plain": [
       "<Figure size 432x288 with 2 Axes>"
      ]
     },
     "metadata": {},
     "output_type": "display_data"
    }
   ],
   "source": [
    "# Precompute conditional visual likelihoods\n",
    "def get_per_digit_likelihood(visual_combination, visual_models):  # return -log likelihoods\n",
    "    '''\n",
    "    Compute NLL given by each visual model (e.g. VAE) to each visual digit.\n",
    "    \n",
    "    Parameters\n",
    "    ----------\n",
    "    visual_combination: torch.Tensor (part~5, height~28, width~28)\n",
    "    visual_models: dictionary of objects which can be called on x and return a nll\n",
    "\n",
    "    Return\n",
    "    ------\n",
    "    visual_likelihoods: np.ndarray (part~5, digit~10)\n",
    "    ''' \n",
    "    visual_likelihoods = np.zeros((5, 10))\n",
    "    for part in xrange(5):\n",
    "        for model_idx in xrange(10):\n",
    "            digit_image = visual_combination[part]\n",
    "            l = visual_models[model_idx](digit_image)\n",
    "            visual_likelihoods[part, model_idx] = l  # since it's -log likelihood\n",
    "    return visual_likelihoods\n",
    "\n",
    "# Test: get conditional nll for each digit of visual combination\n",
    "visual_likelihoods = get_per_digit_likelihood(visual_combination, visual_models)\n",
    "plt.imshow(visual_likelihoods, 'gray')\n",
    "plt.colorbar()\n"
   ]
  },
  {
   "cell_type": "code",
   "execution_count": 7,
   "metadata": {
    "scrolled": false
   },
   "outputs": [
    {
     "name": "stdout",
     "output_type": "stream",
     "text": [
      "Closest combination match [3 7 4 6 5]\n",
      "Likelihood 482.86708156528493\n"
     ]
    }
   ],
   "source": [
    "# Sum over all combinations in symbolic model\n",
    "conditional_likelihoods = []\n",
    "\n",
    "def log_sum_exp(v):\n",
    "    v = np.asarray(v)\n",
    "    v_max = v.max()\n",
    "    return v_max + np.log(np.sum(np.exp(v - v_max)))\n",
    "\n",
    "\n",
    "def get_one_sample_likelihood(visual_likelihoods, model_combinations):\n",
    "    '''\n",
    "    Return likelihood given by a joint model for one visual sample.\n",
    "    \n",
    "    Parameters\n",
    "    ----------\n",
    "    visual_likelihoods: np.ndarray (part~5, digit~10) of per_digit likelihoods\n",
    "    model_combinations: np.ndarray (combination~1000, part~5) \n",
    "        symbolic model is uniform distribution on those combinations.\n",
    "    \n",
    "    Returns\n",
    "    -------\n",
    "    likelihood: nll for that given sample: -log { 1/|C| sum_{z\\in C} p(z) \\prod_i p(x_i | z_i) }\n",
    "    conditional_likelihoods: -\\sum_i \\log p(x_i | z_i)\n",
    "    closest_combination: return combination z in model_combinations with highest likelihood\n",
    "    '''\n",
    "    conditional_likelihoods = []\n",
    "    for combination in model_combinations:  # iterate over possible z\n",
    "        tmp = 0.\n",
    "        for part, c in enumerate(combination):\n",
    "            p_xPart_given_zPart = visual_likelihoods[part, c]\n",
    "            tmp += p_xPart_given_zPart\n",
    "        conditional_likelihoods.append(tmp)\n",
    "    likelihood = np.log(len(model_combinations)) - log_sum_exp(-np.asarray(conditional_likelihoods))  # get NLL\n",
    "    # for debugging return closest combination\n",
    "    best_x_z = np.argmin(conditional_likelihoods)  # smallest log likelihood\n",
    "    closest_combination = model_combinations[best_x_z]\n",
    "    return likelihood, conditional_likelihoods, closest_combination\n",
    "    \n",
    "    \n",
    "# Test: get liklelihood for sample giving visual_likelihood\n",
    "likelihood, conditional_likelihoods, closest_combination = get_one_sample_likelihood(\n",
    "    visual_likelihoods, sum_25.train_positive)\n",
    "\n",
    "# Note that the largest conditional likelihood should correspond classifying the combination\n",
    "# if combination verifies constraint\n",
    "print 'Closest combination match', closest_combination\n",
    "print 'Likelihood', likelihood"
   ]
  },
  {
   "cell_type": "markdown",
   "metadata": {},
   "source": [
    "# Repeat this over all training set combinations X model combinations\n",
    "[Main Function]"
   ]
  },
  {
   "cell_type": "code",
   "execution_count": 8,
   "metadata": {
    "scrolled": false
   },
   "outputs": [
    {
     "name": "stdout",
     "output_type": "stream",
     "text": [
      "Combination # 0\n",
      "Combination [9 0 2 8 6]\n",
      "closest [9 0 2 8 6]\n",
      "Likelihood 541.0409114048445\n",
      "NLL in [541.0; 541.0]\n",
      "Combination # 50\n",
      "Combination [4 9 1 3 8]\n",
      "closest [4 9 1 3 8]\n",
      "Likelihood 429.1041743442976\n",
      "NLL in [476.4; 490.6]\n",
      "Combination # 100\n",
      "Combination [3 7 8 1 6]\n",
      "closest [3 7 8 1 6]\n",
      "Likelihood 414.40949508404367\n",
      "NLL in [484.2; 494.3]\n",
      "Combination # 150\n",
      "Combination [0 8 9 2 6]\n",
      "closest [0 8 9 2 6]\n",
      "Likelihood 485.4522502109968\n",
      "NLL in [484.7; 493.1]\n",
      "NLL in [484.3; 491.7]\n"
     ]
    }
   ],
   "source": [
    "def get_likelihood(target_combinations, model_combinations,\n",
    "                    visual_samplers, visual_models, max_iterations=200):\n",
    "    '''\n",
    "    Return estimated likelihood for \n",
    "    '''\n",
    "    all_likelihoods = []\n",
    "    for i, combination in enumerate(target_combinations):  # true distribution to reach\n",
    "        \n",
    "        if i >= max_iterations:\n",
    "            break\n",
    "        \n",
    "        # Transform symbolic combination to visual\n",
    "        visual_combination = to_visual(combination, visual_samplers)\n",
    "        \n",
    "        # Compute likelihood of each part(digit) with each visual conditional model \n",
    "        visual_likelihoods = get_per_digit_likelihood(visual_combination, visual_models)  \n",
    "        \n",
    "        # Compute likelihood of that visual sample\n",
    "        likelihood, conditional_likelihoods, closest_combination = get_one_sample_likelihood(\n",
    "            visual_likelihoods, model_combinations)  # model distribution\n",
    "\n",
    "        # Logging\n",
    "        all_likelihoods.append(likelihood)\n",
    "        average_nll = np.mean(all_likelihoods)\n",
    "        std = np.std(all_likelihoods) / np.sqrt(len(all_likelihoods))\n",
    "        if i % 50 == 0:\n",
    "            print 'Combination #', i\n",
    "            print 'Combination', combination\n",
    "            print 'closest', closest_combination\n",
    "            print 'Likelihood', likelihood\n",
    "            print 'NLL in [{:.1f}; {:.1f}]'.format(average_nll-std, average_nll+std)  \n",
    "            \n",
    "    return average_nll, std\n",
    "\n",
    "target_combinations = sum_25.train_positive\n",
    "model_combinations = sum_25.train_positive\n",
    "average_nll, std = get_likelihood(target_combinations, model_combinations,\n",
    "                    visual_samplers, visual_models, max_iterations=200)\n",
    "\n",
    "print 'NLL in [{:.1f}; {:.1f}]'.format(average_nll-std, average_nll+std)"
   ]
  },
  {
   "cell_type": "markdown",
   "metadata": {},
   "source": [
    "# Actual tests"
   ]
  },
  {
   "cell_type": "code",
   "execution_count": 9,
   "metadata": {},
   "outputs": [],
   "source": [
    "max_iterations = 1000"
   ]
  },
  {
   "cell_type": "code",
   "execution_count": 10,
   "metadata": {},
   "outputs": [
    {
     "name": "stdout",
     "output_type": "stream",
     "text": [
      "Combination # 0\n",
      "Combination [9 0 2 8 6]\n",
      "closest [9 0 2 8 6]\n",
      "Likelihood 591.522726748477\n",
      "NLL in [591.5; 591.5]\n"
     ]
    },
    {
     "ename": "KeyboardInterrupt",
     "evalue": "",
     "output_type": "error",
     "traceback": [
      "\u001b[0;31m---------------------------------------------------------------------------\u001b[0m",
      "\u001b[0;31mKeyboardInterrupt\u001b[0m                         Traceback (most recent call last)",
      "\u001b[0;32m<ipython-input-10-b2c51fb6d9ba>\u001b[0m in \u001b[0;36m<module>\u001b[0;34m()\u001b[0m\n\u001b[1;32m      2\u001b[0m \u001b[0mmodel_combinations\u001b[0m \u001b[0;34m=\u001b[0m \u001b[0muniform\u001b[0m\u001b[0;34m.\u001b[0m\u001b[0mtrain_positive\u001b[0m\u001b[0;34m\u001b[0m\u001b[0m\n\u001b[1;32m      3\u001b[0m average_nll, std = get_likelihood(target_combinations, model_combinations,\n\u001b[0;32m----> 4\u001b[0;31m                     visual_samplers, visual_models, max_iterations=max_iterations)\n\u001b[0m",
      "\u001b[0;32m<ipython-input-8-0d622884892c>\u001b[0m in \u001b[0;36mget_likelihood\u001b[0;34m(target_combinations, model_combinations, visual_samplers, visual_models, max_iterations)\u001b[0m\n\u001b[1;32m     18\u001b[0m         \u001b[0;31m# Compute likelihood of that visual sample\u001b[0m\u001b[0;34m\u001b[0m\u001b[0;34m\u001b[0m\u001b[0m\n\u001b[1;32m     19\u001b[0m         likelihood, conditional_likelihoods, closest_combination = get_one_sample_likelihood(\n\u001b[0;32m---> 20\u001b[0;31m             visual_likelihoods, model_combinations)  # model distribution\n\u001b[0m\u001b[1;32m     21\u001b[0m \u001b[0;34m\u001b[0m\u001b[0m\n\u001b[1;32m     22\u001b[0m         \u001b[0;31m# Logging\u001b[0m\u001b[0;34m\u001b[0m\u001b[0;34m\u001b[0m\u001b[0m\n",
      "\u001b[0;32m<ipython-input-7-f7fd957c4eda>\u001b[0m in \u001b[0;36mget_one_sample_likelihood\u001b[0;34m(visual_likelihoods, model_combinations)\u001b[0m\n\u001b[1;32m     27\u001b[0m     \u001b[0;32mfor\u001b[0m \u001b[0mcombination\u001b[0m \u001b[0;32min\u001b[0m \u001b[0mmodel_combinations\u001b[0m\u001b[0;34m:\u001b[0m  \u001b[0;31m# iterate over possible z\u001b[0m\u001b[0;34m\u001b[0m\u001b[0m\n\u001b[1;32m     28\u001b[0m         \u001b[0mtmp\u001b[0m \u001b[0;34m=\u001b[0m \u001b[0;36m0.\u001b[0m\u001b[0;34m\u001b[0m\u001b[0m\n\u001b[0;32m---> 29\u001b[0;31m         \u001b[0;32mfor\u001b[0m \u001b[0mpart\u001b[0m\u001b[0;34m,\u001b[0m \u001b[0mc\u001b[0m \u001b[0;32min\u001b[0m \u001b[0menumerate\u001b[0m\u001b[0;34m(\u001b[0m\u001b[0mcombination\u001b[0m\u001b[0;34m)\u001b[0m\u001b[0;34m:\u001b[0m\u001b[0;34m\u001b[0m\u001b[0m\n\u001b[0m\u001b[1;32m     30\u001b[0m             \u001b[0mp_xPart_given_zPart\u001b[0m \u001b[0;34m=\u001b[0m \u001b[0mvisual_likelihoods\u001b[0m\u001b[0;34m[\u001b[0m\u001b[0mpart\u001b[0m\u001b[0;34m,\u001b[0m \u001b[0mc\u001b[0m\u001b[0;34m]\u001b[0m\u001b[0;34m\u001b[0m\u001b[0m\n\u001b[1;32m     31\u001b[0m             \u001b[0mtmp\u001b[0m \u001b[0;34m+=\u001b[0m \u001b[0mp_xPart_given_zPart\u001b[0m\u001b[0;34m\u001b[0m\u001b[0m\n",
      "\u001b[0;31mKeyboardInterrupt\u001b[0m: "
     ]
    }
   ],
   "source": [
    "target_combinations = sum_25.train_positive\n",
    "model_combinations = uniform.train_positive\n",
    "average_nll, std = get_likelihood(target_combinations, model_combinations,\n",
    "                    visual_samplers, visual_models, max_iterations=max_iterations)"
   ]
  },
  {
   "cell_type": "code",
   "execution_count": 11,
   "metadata": {},
   "outputs": [
    {
     "name": "stdout",
     "output_type": "stream",
     "text": [
      "Combination # 0\n",
      "Combination [9 0 2 8 6]\n",
      "closest [9 0 2 3 6]\n",
      "Likelihood 583.6769393552838\n",
      "NLL in [583.7; 583.7]\n"
     ]
    },
    {
     "ename": "KeyboardInterrupt",
     "evalue": "",
     "output_type": "error",
     "traceback": [
      "\u001b[0;31m---------------------------------------------------------------------------\u001b[0m",
      "\u001b[0;31mKeyboardInterrupt\u001b[0m                         Traceback (most recent call last)",
      "\u001b[0;32m<ipython-input-11-45879d81903b>\u001b[0m in \u001b[0;36m<module>\u001b[0;34m()\u001b[0m\n\u001b[1;32m      2\u001b[0m \u001b[0mmodel_combinations\u001b[0m \u001b[0;34m=\u001b[0m \u001b[0muniform\u001b[0m\u001b[0;34m.\u001b[0m\u001b[0mtrain_positive\u001b[0m\u001b[0;34m\u001b[0m\u001b[0m\n\u001b[1;32m      3\u001b[0m average_nll, std = get_likelihood(target_combinations, model_combinations,\n\u001b[0;32m----> 4\u001b[0;31m                     visual_samplers, visual_models, max_iterations=200)\n\u001b[0m",
      "\u001b[0;32m<ipython-input-8-0d622884892c>\u001b[0m in \u001b[0;36mget_likelihood\u001b[0;34m(target_combinations, model_combinations, visual_samplers, visual_models, max_iterations)\u001b[0m\n\u001b[1;32m     18\u001b[0m         \u001b[0;31m# Compute likelihood of that visual sample\u001b[0m\u001b[0;34m\u001b[0m\u001b[0;34m\u001b[0m\u001b[0m\n\u001b[1;32m     19\u001b[0m         likelihood, conditional_likelihoods, closest_combination = get_one_sample_likelihood(\n\u001b[0;32m---> 20\u001b[0;31m             visual_likelihoods, model_combinations)  # model distribution\n\u001b[0m\u001b[1;32m     21\u001b[0m \u001b[0;34m\u001b[0m\u001b[0m\n\u001b[1;32m     22\u001b[0m         \u001b[0;31m# Logging\u001b[0m\u001b[0;34m\u001b[0m\u001b[0;34m\u001b[0m\u001b[0m\n",
      "\u001b[0;32m<ipython-input-7-f7fd957c4eda>\u001b[0m in \u001b[0;36mget_one_sample_likelihood\u001b[0;34m(visual_likelihoods, model_combinations)\u001b[0m\n\u001b[1;32m     27\u001b[0m     \u001b[0;32mfor\u001b[0m \u001b[0mcombination\u001b[0m \u001b[0;32min\u001b[0m \u001b[0mmodel_combinations\u001b[0m\u001b[0;34m:\u001b[0m  \u001b[0;31m# iterate over possible z\u001b[0m\u001b[0;34m\u001b[0m\u001b[0m\n\u001b[1;32m     28\u001b[0m         \u001b[0mtmp\u001b[0m \u001b[0;34m=\u001b[0m \u001b[0;36m0.\u001b[0m\u001b[0;34m\u001b[0m\u001b[0m\n\u001b[0;32m---> 29\u001b[0;31m         \u001b[0;32mfor\u001b[0m \u001b[0mpart\u001b[0m\u001b[0;34m,\u001b[0m \u001b[0mc\u001b[0m \u001b[0;32min\u001b[0m \u001b[0menumerate\u001b[0m\u001b[0;34m(\u001b[0m\u001b[0mcombination\u001b[0m\u001b[0;34m)\u001b[0m\u001b[0;34m:\u001b[0m\u001b[0;34m\u001b[0m\u001b[0m\n\u001b[0m\u001b[1;32m     30\u001b[0m             \u001b[0mp_xPart_given_zPart\u001b[0m \u001b[0;34m=\u001b[0m \u001b[0mvisual_likelihoods\u001b[0m\u001b[0;34m[\u001b[0m\u001b[0mpart\u001b[0m\u001b[0;34m,\u001b[0m \u001b[0mc\u001b[0m\u001b[0;34m]\u001b[0m\u001b[0;34m\u001b[0m\u001b[0m\n\u001b[1;32m     31\u001b[0m             \u001b[0mtmp\u001b[0m \u001b[0;34m+=\u001b[0m \u001b[0mp_xPart_given_zPart\u001b[0m\u001b[0;34m\u001b[0m\u001b[0m\n",
      "\u001b[0;31mKeyboardInterrupt\u001b[0m: "
     ]
    }
   ],
   "source": [
    "target_combinations = sum_25.train_positive\n",
    "model_combinations = uniform.train_positive\n",
    "average_nll, std = get_likelihood(target_combinations, model_combinations,\n",
    "                    visual_samplers, visual_models, max_iterations=200)"
   ]
  },
  {
   "cell_type": "code",
   "execution_count": null,
   "metadata": {},
   "outputs": [
    {
     "name": "stdout",
     "output_type": "stream",
     "text": [
      "\n",
      "sum_25 with UNIFORM-model\n",
      "Combination # 0\n",
      "Combination [4 8 8 3 2]\n",
      "closest [4 8 8 3 2]\n",
      "Likelihood 511.430874892179\n",
      "NLL in [511.4; 511.4]\n",
      "Combination # 50\n",
      "Combination [9 4 2 2 8]\n",
      "closest [9 4 2 2 8]\n",
      "Likelihood 494.2050237034475\n",
      "NLL in [492.0; 506.6]\n",
      "Combination # 100\n",
      "Combination [3 7 5 3 7]\n",
      "closest [3 7 8 3 7]\n",
      "Likelihood 504.66052527384505\n",
      "NLL in [486.6; 497.4]\n",
      "Combination # 150\n",
      "Combination [8 4 6 6 1]\n",
      "closest [8 4 6 6 1]\n",
      "Likelihood 461.3395856149088\n",
      "NLL in [487.5; 496.6]\n",
      "Combination # 200\n",
      "Combination [6 2 9 1 7]\n",
      "closest [6 2 9 1 7]\n",
      "Likelihood 459.26342382566185\n",
      "NLL in [490.3; 498.0]\n",
      "Combination # 250\n",
      "Combination [6 6 5 6 2]\n",
      "closest [6 6 5 6 3]\n",
      "Likelihood 496.0078641734652\n",
      "NLL in [491.5; 498.5]\n"
     ]
    }
   ],
   "source": [
    "all_problems = ['sum_25', 'increasing', 'symmetric', 'even']\n",
    "uniform = get_problem('uniform', 'int', train_ratio=1.)\n",
    "max_iterations = 2000\n",
    "\n",
    "# (key_1, key_2) key_1 is target, key_2 is model\n",
    "average_nlls = {}\n",
    "stds = {}\n",
    "\n",
    "for p in all_problems:\n",
    "    target_problem = get_problem(p, 'int', train_ratio=1.)\n",
    "    # Compute target vs. uniform model\n",
    "    print '\\n{} with {}-model'.format(p, 'UNIFORM')\n",
    "    average_nll, std = get_likelihood(target_problem.train_positive, uniform.train_positive,\n",
    "                    visual_samplers, visual_models, max_iterations=max_iterations)\n",
    "    average_nlls[(p, 'uniform')] = average_nll\n",
    "    stds[(p, 'uniform')] = std\n",
    "    # Compute target vs. target model\n",
    "    print '\\n{} with {}-model'.format(p, p)\n",
    "    average_nll, std = get_likelihood(target_problem.train_positive, target_problem.train_positive,\n",
    "                    visual_samplers, visual_models, max_iterations=max_iterations)\n",
    "    average_nlls[(p, p)] = average_nll\n",
    "    stds[(p, p)] = std    \n",
    "    "
   ]
  },
  {
   "cell_type": "code",
   "execution_count": 13,
   "metadata": {},
   "outputs": [
    {
     "data": {
      "text/plain": [
       "{('even', 'even'): 572.1490852561102,\n",
       " ('even', 'uniform'): 573.407292973076,\n",
       " ('increasing', 'increasing'): 568.3391140220898,\n",
       " ('increasing', 'uniform'): 569.5316872201712,\n",
       " ('sum_25', 'sum_25'): 575.407282397065,\n",
       " ('sum_25', 'uniform'): 572.3051066949844,\n",
       " ('symmetric', 'symmetric'): 563.8768181342056,\n",
       " ('symmetric', 'uniform'): 571.9257354390335}"
      ]
     },
     "execution_count": 13,
     "metadata": {},
     "output_type": "execute_result"
    }
   ],
   "source": [
    "average_nlls"
   ]
  },
  {
   "cell_type": "code",
   "execution_count": 85,
   "metadata": {},
   "outputs": [
    {
     "data": {
      "text/plain": [
       "{('even', 'even'): 1.2171978858548096,\n",
       " ('even', 'uniform'): 1.2668743925587675,\n",
       " ('increasing', 'increasing'): 1.3597330309634366,\n",
       " ('increasing', 'uniform'): 1.4075802609068047,\n",
       " ('sum_25', 'sum_25'): 1.1829772798830123,\n",
       " ('sum_25', 'uniform'): 1.1818917495160075,\n",
       " ('symmetric', 'symmetric'): 2.1689768139683823,\n",
       " ('symmetric', 'uniform'): 2.076468640541826}"
      ]
     },
     "execution_count": 85,
     "metadata": {},
     "output_type": "execute_result"
    }
   ],
   "source": [
    "stds"
   ]
  },
  {
   "cell_type": "code",
   "execution_count": 14,
   "metadata": {},
   "outputs": [
    {
     "name": "stdout",
     "output_type": "stream",
     "text": [
      "('even', 'even'): 572.1 +/- 1.5\n",
      "('even', 'uniform'): 573.4 +/- 1.6\n",
      "('increasing', 'increasing'): 568.3 +/- 1.7\n",
      "('increasing', 'uniform'): 569.5 +/- 1.7\n",
      "('sum_25', 'sum_25'): 575.4 +/- 1.5\n",
      "('sum_25', 'uniform'): 572.3 +/- 1.4\n",
      "('symmetric', 'symmetric'): 563.9 +/- 2.6\n",
      "('symmetric', 'uniform'): 571.9 +/- 2.6\n"
     ]
    }
   ],
   "source": [
    "lines = []\n",
    "for key in average_nlls:\n",
    "    lines.append('{}: {:.1f} +/- {:.1f}'.format(key, average_nlls[key], stds[key]))\n",
    "lines = sorted(lines)\n",
    "print '\\n'.join(lines)"
   ]
  },
  {
   "cell_type": "code",
   "execution_count": null,
   "metadata": {},
   "outputs": [],
   "source": [
    "key"
   ]
  }
 ],
 "metadata": {
  "kernelspec": {
   "display_name": "Python 2",
   "language": "python",
   "name": "python2"
  },
  "language_info": {
   "codemirror_mode": {
    "name": "ipython",
    "version": 2
   },
   "file_extension": ".py",
   "mimetype": "text/x-python",
   "name": "python",
   "nbconvert_exporter": "python",
   "pygments_lexer": "ipython2",
   "version": "2.7.15"
  }
 },
 "nbformat": 4,
 "nbformat_minor": 2
}
