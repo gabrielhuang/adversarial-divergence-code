{
 "cells": [
  {
   "cell_type": "code",
   "execution_count": 1,
   "metadata": {},
   "outputs": [],
   "source": [
    "import sys\n",
    "sys.path.append('..')\n",
    "import torch\n",
    "from torchvision import datasets, transforms\n",
    "from models import VAE, loss_function\n",
    "from problems import get_problem\n",
    "import numpy as np\n",
    "import matplotlib.pyplot as plt\n",
    "%matplotlib inline\n",
    "\n",
    "p = get_problem('sum_25', 'int', train_ratio=1.)\n",
    "\n",
    "def get_digit(digit, train):\n",
    "    test_digits = []\n",
    "    for data, label in datasets.MNIST('../data', train=train, download=True, transform=transforms.ToTensor()):\n",
    "        if digit == -1 or label.item() == digit:\n",
    "            test_digits.append((data, label))\n",
    "    return test_digits"
   ]
  },
  {
   "cell_type": "code",
   "execution_count": 94,
   "metadata": {},
   "outputs": [],
   "source": [
    "# Load all VAES\n",
    "vaes = {}\n",
    "for i in xrange(10):\n",
    "    vae = VAE()\n",
    "    state_dict = torch.load('digit_{}_epoch_80.pth'.format(i))\n",
    "    vae.load_state_dict(state_dict)\n",
    "    vaes[i] = vae"
   ]
  },
  {
   "cell_type": "code",
   "execution_count": 95,
   "metadata": {},
   "outputs": [
    {
     "name": "stdout",
     "output_type": "stream",
     "text": [
      "Loading digit 0\n",
      "Loading digit 1\n",
      "Loading digit 2\n",
      "Loading digit 3\n",
      "Loading digit 4\n",
      "Loading digit 5\n",
      "Loading digit 6\n",
      "Loading digit 7\n",
      "Loading digit 8\n",
      "Loading digit 9\n"
     ]
    }
   ],
   "source": [
    "# Load all MNISTs\n",
    "batch_size = 1\n",
    "\n",
    "# Load all MNIST digits\n",
    "test_digits = {}\n",
    "test_loaders = {}\n",
    "for i in xrange(10):\n",
    "    print 'Loading digit', i\n",
    "    test_digit = get_digit(i, train=False)\n",
    "    test_digits[i] = test_digit\n",
    "    \n",
    "    test_loader = torch.utils.data.DataLoader(test_digit, batch_size=batch_size, shuffle=True)\n",
    "    test_loaders[i] = test_loader"
   ]
  },
  {
   "cell_type": "code",
   "execution_count": 194,
   "metadata": {},
   "outputs": [
    {
     "data": {
      "image/png": "[encoded data removed]",
      "text/plain": [
       "<Figure size 432x288 with 5 Axes>"
      ]
     },
     "metadata": {},
     "output_type": "display_data"
    }
   ],
   "source": [
    "# Combination to Visual\n",
    "def to_visual(combination):\n",
    "    x = []\n",
    "    for c in combination:\n",
    "        x.append(iter(test_loaders[c]).next()[0][0])\n",
    "    visual_combination = torch.cat(x)\n",
    "    return visual_combination\n",
    "\n",
    "visual_combination = to_visual(p.train_positive[7])\n",
    "\n",
    "for i in xrange(5):\n",
    "    plt.subplot(1,5,i+1)\n",
    "    plt.imshow(visual_combination[i].numpy(), cmap='gray')"
   ]
  },
  {
   "cell_type": "markdown",
   "metadata": {},
   "source": [
    "# Likelihood of Sum-25 with Joint generator"
   ]
  },
  {
   "cell_type": "code",
   "execution_count": 203,
   "metadata": {},
   "outputs": [
    {
     "data": {
      "text/plain": [
       "<matplotlib.image.AxesImage at 0x11643ded0>"
      ]
     },
     "execution_count": 203,
     "metadata": {},
     "output_type": "execute_result"
    },
    {
     "data": {
      "image/png": "[encoded data removed]",
      "text/plain": [
       "<Figure size 432x288 with 1 Axes>"
      ]
     },
     "metadata": {},
     "output_type": "display_data"
    }
   ],
   "source": [
    "# Precompute conditional visual likelihoods\n",
    "def get_visual_likelihood(visual_combination):  # return -log likelihoods\n",
    "    visual_likelihoods = np.zeros((5, 10))\n",
    "    for part in xrange(5):\n",
    "        for model_idx in xrange(10):\n",
    "            x = visual_combination[part].view((1, 1, 28, 28))\n",
    "            reconstruction, mu, logvar = vaes[model_idx](x)\n",
    "            l = loss_function(reconstruction, x, mu, logvar).item()\n",
    "            visual_likelihoods[part, model_idx] = l  # since it's -log likelihood\n",
    "    return visual_likelihoods\n",
    "\n",
    "visual_combination = to_visual(p.train_positive[6])  # this function is random\n",
    "visual_likelihoods = get_visual_likelihood(visual_combination)\n",
    "plt.imshow(visual_likelihoods, 'gray')\n"
   ]
  },
  {
   "cell_type": "code",
   "execution_count": 208,
   "metadata": {
    "scrolled": false
   },
   "outputs": [
    {
     "name": "stdout",
     "output_type": "stream",
     "text": [
      "Closest combination match [6 6 4 0 9]\n",
      "Likelihood 420.7110621616804\n"
     ]
    }
   ],
   "source": [
    "# Sum over all combinations in symbolic model\n",
    "conditional_likelihoods = []\n",
    "\n",
    "def log_sum_exp(v):\n",
    "    v = np.asarray(v)\n",
    "    v_max = v.max()\n",
    "    return v_max + np.log(np.sum(np.exp(v - v_max)))\n",
    "\n",
    "\n",
    "def get_likelihood(p, visual_likelihoods):\n",
    "    conditional_likelihoods = []\n",
    "    for combination in p.train_positive:  # iterate over possible z\n",
    "        tmp = 0.\n",
    "        for part, c in enumerate(combination):\n",
    "            p_xPart_given_zPart = visual_likelihoods[part, c]\n",
    "            tmp += p_xPart_given_zPart\n",
    "        conditional_likelihoods.append(tmp)\n",
    "    likelihood = np.log(len(p.train_positive)) - log_sum_exp(-np.asarray(conditional_likelihoods))  # get NLL\n",
    "    # for debugging return closest combination\n",
    "    best_x_z = np.argmin(conditional_likelihoods)  # smallest log likelihood\n",
    "    closest_combination = p.train_positive[best_x_z]\n",
    "    return likelihood, conditional_likelihoods, closest_combination\n",
    "    \n",
    "    \n",
    "likelihood, conditional_likelihoods, closest_combination = get_likelihood(p, visual_likelihoods)\n",
    "\n",
    "# Note that the largest conditional likelihood should correspond classifying the combination\n",
    "print 'Closest combination match', closest_combination\n",
    "\n",
    "print 'Likelihood', likelihood"
   ]
  },
  {
   "cell_type": "markdown",
   "metadata": {},
   "source": [
    "# Repeat this over all training set combinations X model combinations"
   ]
  },
  {
   "cell_type": "code",
   "execution_count": 214,
   "metadata": {
    "scrolled": false
   },
   "outputs": [
    {
     "name": "stdout",
     "output_type": "stream",
     "text": [
      "Combination # 0\n",
      "Combination [6 6 4 0 9]\n",
      "closest [6 6 4 0 9]\n",
      "Likelihood 421.003939358946\n",
      "Average NLL: 421.0 +/- 0.0\n",
      "Combination # 50\n",
      "Combination [7 4 5 3 6]\n",
      "closest [7 4 5 3 6]\n",
      "Likelihood 495.78402206158273\n",
      "Average NLL: 500.6 +/- 7.1\n",
      "Combination # 100\n",
      "Combination [4 5 4 5 7]\n",
      "closest [4 5 4 5 7]\n",
      "Likelihood 476.41385909771554\n",
      "Average NLL: 491.9 +/- 4.7\n",
      "Combination # 150\n",
      "Combination [3 1 9 7 5]\n",
      "closest [3 1 9 7 5]\n",
      "Likelihood 468.6549403355085\n",
      "Average NLL: 492.7 +/- 4.3\n",
      "Combination # 200\n",
      "Combination [6 4 7 1 7]\n",
      "closest [6 4 7 1 7]\n",
      "Likelihood 408.7533976719343\n",
      "Average NLL: 487.7 +/- 3.7\n",
      "Combination # 250\n",
      "Combination [6 3 8 2 6]\n",
      "closest [6 3 8 2 6]\n",
      "Likelihood 499.5480296299421\n",
      "Average NLL: 489.3 +/- 3.4\n",
      "Combination # 300\n",
      "Combination [3 5 8 1 8]\n",
      "closest [3 5 8 1 8]\n",
      "Likelihood 469.25355788921945\n",
      "Average NLL: 490.0 +/- 3.2\n",
      "Combination # 350\n",
      "Combination [2 8 5 7 3]\n",
      "closest [2 8 5 7 3]\n",
      "Likelihood 537.370997159239\n",
      "Average NLL: 490.1 +/- 2.9\n",
      "Combination # 400\n",
      "Combination [5 2 3 9 6]\n",
      "closest [5 2 3 9 6]\n",
      "Likelihood 489.157992093321\n",
      "Average NLL: 489.4 +/- 2.7\n",
      "Combination # 450\n",
      "Combination [5 7 8 2 3]\n",
      "closest [5 7 8 2 3]\n",
      "Likelihood 551.8883616611921\n",
      "Average NLL: 489.8 +/- 2.6\n",
      "Combination # 500\n",
      "Combination [7 7 1 4 6]\n",
      "closest [7 7 1 4 6]\n",
      "Likelihood 397.7842356846296\n",
      "Average NLL: 489.5 +/- 2.5\n",
      "Combination # 550\n",
      "Combination [8 1 6 3 7]\n",
      "closest [8 1 6 3 7]\n",
      "Likelihood 416.72077819561594\n",
      "Average NLL: 489.7 +/- 2.4\n",
      "Combination # 600\n",
      "Combination [3 0 8 6 8]\n",
      "closest [3 0 8 6 8]\n",
      "Likelihood 563.8736903355085\n",
      "Average NLL: 489.1 +/- 2.4\n",
      "Combination # 650\n",
      "Combination [2 4 7 4 8]\n",
      "closest [2 4 7 4 8]\n",
      "Likelihood 469.7351863071882\n",
      "Average NLL: 489.4 +/- 2.2\n",
      "Combination # 700\n",
      "Combination [5 7 6 7 0]\n",
      "closest [5 7 6 7 0]\n",
      "Likelihood 545.7107646152937\n",
      "Average NLL: 488.9 +/- 2.2\n",
      "Combination # 750\n",
      "Combination [7 9 5 0 4]\n",
      "closest [7 9 5 0 4]\n",
      "Likelihood 498.2260615513288\n",
      "Average NLL: 488.4 +/- 2.1\n",
      "Combination # 800\n",
      "Combination [4 9 2 5 5]\n",
      "closest [4 9 2 5 5]\n",
      "Likelihood 542.6635691807234\n",
      "Average NLL: 487.6 +/- 2.0\n",
      "Combination # 850\n",
      "Combination [8 3 4 1 9]\n",
      "closest [8 3 4 1 9]\n",
      "Likelihood 496.6237704441511\n",
      "Average NLL: 487.9 +/- 2.0\n",
      "Combination # 900\n",
      "Combination [4 0 5 7 9]\n",
      "closest [4 0 5 7 9]\n",
      "Likelihood 569.368815152403\n",
      "Average NLL: 488.1 +/- 1.9\n",
      "Combination # 950\n",
      "Combination [2 4 9 7 3]\n",
      "closest [2 4 9 7 3]\n",
      "Likelihood 495.83197280621164\n",
      "Average NLL: 487.9 +/- 1.8\n",
      "Combination # 1000\n",
      "Combination [6 5 4 5 5]\n",
      "closest [6 5 4 5 5]\n",
      "Likelihood 591.7363230869734\n",
      "Average NLL: 487.4 +/- 1.8\n",
      "Combination # 1050\n",
      "Combination [3 1 6 6 9]\n",
      "closest [3 1 6 6 9]\n",
      "Likelihood 419.13068649029367\n",
      "Average NLL: 486.8 +/- 1.7\n",
      "Combination # 1100\n",
      "Combination [8 9 5 3 0]\n",
      "closest [8 9 5 3 0]\n",
      "Likelihood 465.08068343853586\n",
      "Average NLL: 486.9 +/- 1.7\n",
      "Combination # 1150\n",
      "Combination [3 6 6 7 3]\n",
      "closest [3 6 6 7 3]\n",
      "Likelihood 508.21554061627023\n",
      "Average NLL: 487.1 +/- 1.6\n",
      "Combination # 1200\n",
      "Combination [6 3 9 1 6]\n",
      "closest [6 3 9 1 6]\n",
      "Likelihood 444.0188548252546\n",
      "Average NLL: 486.9 +/- 1.6\n",
      "Combination # 1250\n",
      "Combination [4 1 4 8 8]\n",
      "closest [4 1 4 8 8]\n",
      "Likelihood 431.9021098301374\n",
      "Average NLL: 486.9 +/- 1.6\n",
      "Combination # 1300\n",
      "Combination [3 5 9 7 1]\n",
      "closest [3 5 9 7 1]\n",
      "Likelihood 424.68700668072336\n",
      "Average NLL: 487.0 +/- 1.5\n",
      "Combination # 1350\n",
      "Combination [9 7 0 5 4]\n",
      "closest [9 7 0 5 4]\n",
      "Likelihood 461.5254008457624\n",
      "Average NLL: 487.1 +/- 1.5\n"
     ]
    },
    {
     "ename": "KeyboardInterrupt",
     "evalue": "",
     "output_type": "error",
     "traceback": [
      "\u001b[0;31m---------------------------------------------------------------------------\u001b[0m",
      "\u001b[0;31mKeyboardInterrupt\u001b[0m                         Traceback (most recent call last)",
      "\u001b[0;32m<ipython-input-214-a2c99e5cd65a>\u001b[0m in \u001b[0;36m<module>\u001b[0;34m()\u001b[0m\n\u001b[1;32m      2\u001b[0m \u001b[0;32mfor\u001b[0m \u001b[0mi\u001b[0m\u001b[0;34m,\u001b[0m \u001b[0mcombination\u001b[0m \u001b[0;32min\u001b[0m \u001b[0menumerate\u001b[0m\u001b[0;34m(\u001b[0m\u001b[0mp\u001b[0m\u001b[0;34m.\u001b[0m\u001b[0mtrain_positive\u001b[0m\u001b[0;34m)\u001b[0m\u001b[0;34m:\u001b[0m\u001b[0;34m\u001b[0m\u001b[0m\n\u001b[1;32m      3\u001b[0m     \u001b[0mvisual_combination\u001b[0m \u001b[0;34m=\u001b[0m \u001b[0mto_visual\u001b[0m\u001b[0;34m(\u001b[0m\u001b[0mcombination\u001b[0m\u001b[0;34m)\u001b[0m  \u001b[0;31m# this function is random\u001b[0m\u001b[0;34m\u001b[0m\u001b[0m\n\u001b[0;32m----> 4\u001b[0;31m     \u001b[0mvisual_likelihoods\u001b[0m \u001b[0;34m=\u001b[0m \u001b[0mget_visual_likelihood\u001b[0m\u001b[0;34m(\u001b[0m\u001b[0mvisual_combination\u001b[0m\u001b[0;34m)\u001b[0m\u001b[0;34m\u001b[0m\u001b[0m\n\u001b[0m\u001b[1;32m      5\u001b[0m     \u001b[0mlikelihood\u001b[0m\u001b[0;34m,\u001b[0m \u001b[0mconditional_likelihoods\u001b[0m\u001b[0;34m,\u001b[0m \u001b[0mclosest_combination\u001b[0m \u001b[0;34m=\u001b[0m \u001b[0mget_likelihood\u001b[0m\u001b[0;34m(\u001b[0m\u001b[0mp\u001b[0m\u001b[0;34m,\u001b[0m \u001b[0mvisual_likelihoods\u001b[0m\u001b[0;34m)\u001b[0m\u001b[0;34m\u001b[0m\u001b[0m\n\u001b[1;32m      6\u001b[0m \u001b[0;34m\u001b[0m\u001b[0m\n",
      "\u001b[0;32m<ipython-input-203-943700f9bca7>\u001b[0m in \u001b[0;36mget_visual_likelihood\u001b[0;34m(visual_combination)\u001b[0m\n\u001b[1;32m      5\u001b[0m         \u001b[0;32mfor\u001b[0m \u001b[0mmodel_idx\u001b[0m \u001b[0;32min\u001b[0m \u001b[0mxrange\u001b[0m\u001b[0;34m(\u001b[0m\u001b[0;36m10\u001b[0m\u001b[0;34m)\u001b[0m\u001b[0;34m:\u001b[0m\u001b[0;34m\u001b[0m\u001b[0m\n\u001b[1;32m      6\u001b[0m             \u001b[0mx\u001b[0m \u001b[0;34m=\u001b[0m \u001b[0mvisual_combination\u001b[0m\u001b[0;34m[\u001b[0m\u001b[0mpart\u001b[0m\u001b[0;34m]\u001b[0m\u001b[0;34m.\u001b[0m\u001b[0mview\u001b[0m\u001b[0;34m(\u001b[0m\u001b[0;34m(\u001b[0m\u001b[0;36m1\u001b[0m\u001b[0;34m,\u001b[0m \u001b[0;36m1\u001b[0m\u001b[0;34m,\u001b[0m \u001b[0;36m28\u001b[0m\u001b[0;34m,\u001b[0m \u001b[0;36m28\u001b[0m\u001b[0;34m)\u001b[0m\u001b[0;34m)\u001b[0m\u001b[0;34m\u001b[0m\u001b[0m\n\u001b[0;32m----> 7\u001b[0;31m             \u001b[0mreconstruction\u001b[0m\u001b[0;34m,\u001b[0m \u001b[0mmu\u001b[0m\u001b[0;34m,\u001b[0m \u001b[0mlogvar\u001b[0m \u001b[0;34m=\u001b[0m \u001b[0mvaes\u001b[0m\u001b[0;34m[\u001b[0m\u001b[0mmodel_idx\u001b[0m\u001b[0;34m]\u001b[0m\u001b[0;34m(\u001b[0m\u001b[0mx\u001b[0m\u001b[0;34m)\u001b[0m\u001b[0;34m\u001b[0m\u001b[0m\n\u001b[0m\u001b[1;32m      8\u001b[0m             \u001b[0ml\u001b[0m \u001b[0;34m=\u001b[0m \u001b[0mloss_function\u001b[0m\u001b[0;34m(\u001b[0m\u001b[0mreconstruction\u001b[0m\u001b[0;34m,\u001b[0m \u001b[0mx\u001b[0m\u001b[0;34m,\u001b[0m \u001b[0mmu\u001b[0m\u001b[0;34m,\u001b[0m \u001b[0mlogvar\u001b[0m\u001b[0;34m)\u001b[0m\u001b[0;34m.\u001b[0m\u001b[0mitem\u001b[0m\u001b[0;34m(\u001b[0m\u001b[0;34m)\u001b[0m\u001b[0;34m\u001b[0m\u001b[0m\n\u001b[1;32m      9\u001b[0m             \u001b[0mvisual_likelihoods\u001b[0m\u001b[0;34m[\u001b[0m\u001b[0mpart\u001b[0m\u001b[0;34m,\u001b[0m \u001b[0mmodel_idx\u001b[0m\u001b[0;34m]\u001b[0m \u001b[0;34m=\u001b[0m \u001b[0ml\u001b[0m  \u001b[0;31m# since it's -log likelihood\u001b[0m\u001b[0;34m\u001b[0m\u001b[0m\n",
      "\u001b[0;32m/usr/local/lib/python2.7/site-packages/torch/nn/modules/module.pyc\u001b[0m in \u001b[0;36m__call__\u001b[0;34m(self, *input, **kwargs)\u001b[0m\n\u001b[1;32m    489\u001b[0m             \u001b[0mresult\u001b[0m \u001b[0;34m=\u001b[0m \u001b[0mself\u001b[0m\u001b[0;34m.\u001b[0m\u001b[0m_slow_forward\u001b[0m\u001b[0;34m(\u001b[0m\u001b[0;34m*\u001b[0m\u001b[0minput\u001b[0m\u001b[0;34m,\u001b[0m \u001b[0;34m**\u001b[0m\u001b[0mkwargs\u001b[0m\u001b[0;34m)\u001b[0m\u001b[0;34m\u001b[0m\u001b[0m\n\u001b[1;32m    490\u001b[0m         \u001b[0;32melse\u001b[0m\u001b[0;34m:\u001b[0m\u001b[0;34m\u001b[0m\u001b[0m\n\u001b[0;32m--> 491\u001b[0;31m             \u001b[0mresult\u001b[0m \u001b[0;34m=\u001b[0m \u001b[0mself\u001b[0m\u001b[0;34m.\u001b[0m\u001b[0mforward\u001b[0m\u001b[0;34m(\u001b[0m\u001b[0;34m*\u001b[0m\u001b[0minput\u001b[0m\u001b[0;34m,\u001b[0m \u001b[0;34m**\u001b[0m\u001b[0mkwargs\u001b[0m\u001b[0;34m)\u001b[0m\u001b[0;34m\u001b[0m\u001b[0m\n\u001b[0m\u001b[1;32m    492\u001b[0m         \u001b[0;32mfor\u001b[0m \u001b[0mhook\u001b[0m \u001b[0;32min\u001b[0m \u001b[0mself\u001b[0m\u001b[0;34m.\u001b[0m\u001b[0m_forward_hooks\u001b[0m\u001b[0;34m.\u001b[0m\u001b[0mvalues\u001b[0m\u001b[0;34m(\u001b[0m\u001b[0;34m)\u001b[0m\u001b[0;34m:\u001b[0m\u001b[0;34m\u001b[0m\u001b[0m\n\u001b[1;32m    493\u001b[0m             \u001b[0mhook_result\u001b[0m \u001b[0;34m=\u001b[0m \u001b[0mhook\u001b[0m\u001b[0;34m(\u001b[0m\u001b[0mself\u001b[0m\u001b[0;34m,\u001b[0m \u001b[0minput\u001b[0m\u001b[0;34m,\u001b[0m \u001b[0mresult\u001b[0m\u001b[0;34m)\u001b[0m\u001b[0;34m\u001b[0m\u001b[0m\n",
      "\u001b[0;32m/Volumes/Data/gabi/code/adversarial-divergence-code/visual-hyperplane/conditional_models/models.pyc\u001b[0m in \u001b[0;36mforward\u001b[0;34m(self, x)\u001b[0m\n\u001b[1;32m     32\u001b[0m     \u001b[0;32mdef\u001b[0m \u001b[0mforward\u001b[0m\u001b[0;34m(\u001b[0m\u001b[0mself\u001b[0m\u001b[0;34m,\u001b[0m \u001b[0mx\u001b[0m\u001b[0;34m)\u001b[0m\u001b[0;34m:\u001b[0m\u001b[0;34m\u001b[0m\u001b[0m\n\u001b[1;32m     33\u001b[0m         \u001b[0mmu\u001b[0m\u001b[0;34m,\u001b[0m \u001b[0mlogvar\u001b[0m \u001b[0;34m=\u001b[0m \u001b[0mself\u001b[0m\u001b[0;34m.\u001b[0m\u001b[0mencode\u001b[0m\u001b[0;34m(\u001b[0m\u001b[0mx\u001b[0m\u001b[0;34m.\u001b[0m\u001b[0mview\u001b[0m\u001b[0;34m(\u001b[0m\u001b[0;34m-\u001b[0m\u001b[0;36m1\u001b[0m\u001b[0;34m,\u001b[0m \u001b[0;36m784\u001b[0m\u001b[0;34m)\u001b[0m\u001b[0;34m)\u001b[0m\u001b[0;34m\u001b[0m\u001b[0m\n\u001b[0;32m---> 34\u001b[0;31m         \u001b[0mz\u001b[0m \u001b[0;34m=\u001b[0m \u001b[0mself\u001b[0m\u001b[0;34m.\u001b[0m\u001b[0mreparameterize\u001b[0m\u001b[0;34m(\u001b[0m\u001b[0mmu\u001b[0m\u001b[0;34m,\u001b[0m \u001b[0mlogvar\u001b[0m\u001b[0;34m)\u001b[0m\u001b[0;34m\u001b[0m\u001b[0m\n\u001b[0m\u001b[1;32m     35\u001b[0m         \u001b[0;32mreturn\u001b[0m \u001b[0mself\u001b[0m\u001b[0;34m.\u001b[0m\u001b[0mdecode\u001b[0m\u001b[0;34m(\u001b[0m\u001b[0mz\u001b[0m\u001b[0;34m)\u001b[0m\u001b[0;34m,\u001b[0m \u001b[0mmu\u001b[0m\u001b[0;34m,\u001b[0m \u001b[0mlogvar\u001b[0m\u001b[0;34m\u001b[0m\u001b[0m\n\u001b[1;32m     36\u001b[0m \u001b[0;34m\u001b[0m\u001b[0m\n",
      "\u001b[0;32m/Volumes/Data/gabi/code/adversarial-divergence-code/visual-hyperplane/conditional_models/models.pyc\u001b[0m in \u001b[0;36mreparameterize\u001b[0;34m(self, mu, logvar)\u001b[0m\n\u001b[1;32m     22\u001b[0m             \u001b[0mstd\u001b[0m \u001b[0;34m=\u001b[0m \u001b[0mtorch\u001b[0m\u001b[0;34m.\u001b[0m\u001b[0mexp\u001b[0m\u001b[0;34m(\u001b[0m\u001b[0;36m0.5\u001b[0m\u001b[0;34m*\u001b[0m\u001b[0mlogvar\u001b[0m\u001b[0;34m)\u001b[0m\u001b[0;34m\u001b[0m\u001b[0m\n\u001b[1;32m     23\u001b[0m             \u001b[0meps\u001b[0m \u001b[0;34m=\u001b[0m \u001b[0mtorch\u001b[0m\u001b[0;34m.\u001b[0m\u001b[0mrandn_like\u001b[0m\u001b[0;34m(\u001b[0m\u001b[0mstd\u001b[0m\u001b[0;34m)\u001b[0m\u001b[0;34m\u001b[0m\u001b[0m\n\u001b[0;32m---> 24\u001b[0;31m             \u001b[0;32mreturn\u001b[0m \u001b[0meps\u001b[0m\u001b[0;34m.\u001b[0m\u001b[0mmul\u001b[0m\u001b[0;34m(\u001b[0m\u001b[0mstd\u001b[0m\u001b[0;34m)\u001b[0m\u001b[0;34m.\u001b[0m\u001b[0madd_\u001b[0m\u001b[0;34m(\u001b[0m\u001b[0mmu\u001b[0m\u001b[0;34m)\u001b[0m\u001b[0;34m\u001b[0m\u001b[0m\n\u001b[0m\u001b[1;32m     25\u001b[0m         \u001b[0;32melse\u001b[0m\u001b[0;34m:\u001b[0m\u001b[0;34m\u001b[0m\u001b[0m\n\u001b[1;32m     26\u001b[0m             \u001b[0;32mreturn\u001b[0m \u001b[0mmu\u001b[0m\u001b[0;34m\u001b[0m\u001b[0m\n",
      "\u001b[0;31mKeyboardInterrupt\u001b[0m: "
     ]
    }
   ],
   "source": [
    "all_likelihoods = []\n",
    "for i, combination in enumerate(p.train_positive):\n",
    "    visual_combination = to_visual(combination)  # this function is random\n",
    "    visual_likelihoods = get_visual_likelihood(visual_combination)  \n",
    "    likelihood, conditional_likelihoods, closest_combination = get_likelihood(p, visual_likelihoods)\n",
    "    \n",
    "    all_likelihoods.append(likelihood)\n",
    "    if i % 50 == 0:\n",
    "        print 'Combination #', i\n",
    "        print 'Combination', combination\n",
    "        print 'closest', closest_combination\n",
    "        print 'Likelihood', likelihood\n",
    "        average_nll = np.mean(all_likelihoods)\n",
    "        std = np.std(all_likelihoods) / np.sqrt(len(all_likelihoods))\n",
    "        print 'Average NLL: {:.1f} +/- {:.1f}'.format(average_nll, std) "
   ]
  },
  {
   "cell_type": "code",
   "execution_count": 207,
   "metadata": {},
   "outputs": [
    {
     "data": {
      "text/plain": [
       "(5631, 5)"
      ]
     },
     "execution_count": 207,
     "metadata": {},
     "output_type": "execute_result"
    }
   ],
   "source": [
    "p.train_positive.shape"
   ]
  },
  {
   "cell_type": "code",
   "execution_count": null,
   "metadata": {},
   "outputs": [],
   "source": []
  }
 ],
 "metadata": {
  "kernelspec": {
   "display_name": "Python 2",
   "language": "python",
   "name": "python2"
  },
  "language_info": {
   "codemirror_mode": {
    "name": "ipython",
    "version": 2
   },
   "file_extension": ".py",
   "mimetype": "text/x-python",
   "name": "python",
   "nbconvert_exporter": "python",
   "pygments_lexer": "ipython2",
   "version": "2.7.15"
  }
 },
 "nbformat": 4,
 "nbformat_minor": 2
}
