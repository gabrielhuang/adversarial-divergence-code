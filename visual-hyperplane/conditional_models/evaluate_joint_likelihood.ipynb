{
 "cells": [
  {
   "cell_type": "code",
   "execution_count": 1,
   "metadata": {},
   "outputs": [],
   "source": [
    "import sys\n",
    "sys.path.append('..')\n",
    "import torch\n",
    "from torchvision import datasets, transforms\n",
    "from models import VAE, loss_function\n",
    "from problems import get_problem\n",
    "import numpy as np\n",
    "import matplotlib.pyplot as plt\n",
    "%matplotlib inline\n",
    "\n",
    "p = get_problem('sum_25', 'int', train_ratio=1.)\n",
    "\n",
    "def get_digit(digit, train):\n",
    "    test_digits = []\n",
    "    for data, label in datasets.MNIST('../data', train=train, download=True, transform=transforms.ToTensor()):\n",
    "        if digit == -1 or label.item() == digit:\n",
    "            test_digits.append((data, label))\n",
    "    return test_digits"
   ]
  },
  {
   "cell_type": "code",
   "execution_count": 43,
   "metadata": {},
   "outputs": [],
   "source": [
    "# Load all VAES\n",
    "vaes = {}\n",
    "for i in xrange(10):\n",
    "    vae = VAE()\n",
    "    state_dict = torch.load('digit_{}_epoch_80.pth'.format(i))\n",
    "    vae.load_state_dict(state_dict)\n",
    "    vaes[i] = vae\n",
    "    \n",
    "# Build visual models (from VAEs)\n",
    "def create_visual_model(digit_idx, vaes):\n",
    "    def visual_model(digit_image):\n",
    "        x = digit_image.view((1, 1, 28, 28))\n",
    "        reconstruction, mu, logvar = vaes[digit_idx](x)\n",
    "        nll = loss_function(reconstruction, x, mu, logvar)\n",
    "        return nll\n",
    "    return visual_model\n",
    "visual_models = [create_visual_model(i, vaes) for i in xrange(10)]"
   ]
  },
  {
   "cell_type": "code",
   "execution_count": 33,
   "metadata": {},
   "outputs": [
    {
     "name": "stdout",
     "output_type": "stream",
     "text": [
      "Loading digit 0\n",
      "Loading digit 1\n",
      "Loading digit 2\n",
      "Loading digit 3\n",
      "Loading digit 4\n",
      "Loading digit 5\n",
      "Loading digit 6\n",
      "Loading digit 7\n",
      "Loading digit 8\n",
      "Loading digit 9\n",
      "torch.Size([28, 28])\n"
     ]
    }
   ],
   "source": [
    "# Load all MNISTs\n",
    "batch_size = 1\n",
    "\n",
    "# Load all MNIST digits\n",
    "test_digits = {}\n",
    "test_loaders = {}\n",
    "for i in xrange(10):\n",
    "    print 'Loading digit', i\n",
    "    test_digit = get_digit(i, train=False)\n",
    "    test_digits[i] = test_digit\n",
    "    \n",
    "    test_loader = torch.utils.data.DataLoader(test_digit, batch_size=batch_size, shuffle=True)\n",
    "    test_loaders[i] = test_loader\n",
    "    \n",
    "# Build visual samplers (from test set)\n",
    "def create_visual_sampler(i, test_loaders):\n",
    "    def visual_sampler():\n",
    "        return iter(test_loaders[int(i)]).next()[0][0,0]\n",
    "    return visual_sampler\n",
    "visual_samplers = [create_visual_sampler(i, test_loaders) for i in xrange(10)]\n",
    "\n",
    "print visual_samplers[8]().size()"
   ]
  },
  {
   "cell_type": "markdown",
   "metadata": {},
   "source": [
    "# Symbolic Combination to Image Combination"
   ]
  },
  {
   "cell_type": "code",
   "execution_count": 48,
   "metadata": {},
   "outputs": [
    {
     "name": "stdout",
     "output_type": "stream",
     "text": [
      "Size torch.Size([5, 28, 28])\n"
     ]
    },
    {
     "data": {
      "image/png": "[encoded data removed]",
      "text/plain": [
       "<Figure size 432x288 with 5 Axes>"
      ]
     },
     "metadata": {},
     "output_type": "display_data"
    }
   ],
   "source": [
    "# Combination to Visual\n",
    "def to_visual(combination, visual_samplers):\n",
    "    '''\n",
    "    Sample a visual representation for a symbolic combination\n",
    "    \n",
    "    Parameters\n",
    "    ----------\n",
    "    combination: np.ndarray (part~5) combination to encode\n",
    "    visual_samplers: dict of 10 callable objects which return a random corresponding (28, 28) digit\n",
    "    \n",
    "    Returns\n",
    "    -------\n",
    "    visual_combination: torch.Tensor (part~5, height~28, width~28)\n",
    "    '''\n",
    "    x = []\n",
    "    for c in combination:\n",
    "        sample = visual_samplers[c]()\n",
    "        x.append(sample[None, :, :])\n",
    "    visual_combination = torch.cat(x)\n",
    "    return visual_combination\n",
    "\n",
    "# Test: combination to visual_combination    \n",
    "visual_combination = to_visual([3, 1, 4, 1, 5], visual_samplers)\n",
    "\n",
    "print 'Size', visual_combination.size()\n",
    "for i in xrange(5):\n",
    "    plt.subplot(1,5,i+1)\n",
    "    plt.imshow(visual_combination[i].numpy(), cmap='gray')"
   ]
  },
  {
   "cell_type": "markdown",
   "metadata": {},
   "source": [
    "# Likelihood of Sum-25 with Joint generator"
   ]
  },
  {
   "cell_type": "code",
   "execution_count": 49,
   "metadata": {},
   "outputs": [
    {
     "data": {
      "text/plain": [
       "<matplotlib.image.AxesImage at 0x113864550>"
      ]
     },
     "execution_count": 49,
     "metadata": {},
     "output_type": "execute_result"
    },
    {
     "data": {
      "image/png": "[encoded data removed]",
      "text/plain": [
       "<Figure size 432x288 with 1 Axes>"
      ]
     },
     "metadata": {},
     "output_type": "display_data"
    }
   ],
   "source": [
    "# Precompute conditional visual likelihoods\n",
    "def get_per_digit_likelihood(visual_combination, visual_models):  # return -log likelihoods\n",
    "    '''\n",
    "    Compute NLL given by each visual model (e.g. VAE) to each visual digit.\n",
    "    \n",
    "    Parameters\n",
    "    ----------\n",
    "    visual_combination: torch.Tensor (part~5, height~28, width~28)\n",
    "    visual_models: dictionary of objects which can be called on x and return a nll\n",
    "\n",
    "    Return\n",
    "    ------\n",
    "    visual_likelihoods: np.ndarray (part~5, digit~10)\n",
    "    '''\n",
    "    visual_likelihoods = np.zeros((5, 10))\n",
    "    for part in xrange(5):\n",
    "        for model_idx in xrange(10):\n",
    "            digit_image = visual_combination[part]\n",
    "            l = visual_models[model_idx](digit_image)\n",
    "            visual_likelihoods[part, model_idx] = l  # since it's -log likelihood\n",
    "    return visual_likelihoods\n",
    "\n",
    "# Test: get conditional nll for each digit of visual combination\n",
    "visual_likelihoods = get_per_digit_likelihood(visual_combination, visual_models)\n",
    "plt.imshow(visual_likelihoods, 'gray')\n"
   ]
  },
  {
   "cell_type": "code",
   "execution_count": 52,
   "metadata": {
    "scrolled": false
   },
   "outputs": [
    {
     "name": "stdout",
     "output_type": "stream",
     "text": [
      "Closest combination match [3 1 4 8 9]\n",
      "Likelihood 481.3769402361114\n"
     ]
    }
   ],
   "source": [
    "# Sum over all combinations in symbolic model\n",
    "conditional_likelihoods = []\n",
    "\n",
    "def log_sum_exp(v):\n",
    "    v = np.asarray(v)\n",
    "    v_max = v.max()\n",
    "    return v_max + np.log(np.sum(np.exp(v - v_max)))\n",
    "\n",
    "\n",
    "def get_one_sample_likelihood(visual_likelihoods, model_combinations):\n",
    "    '''\n",
    "    Return likelihood given by a joint model for one visual sample.\n",
    "    \n",
    "    Parameters\n",
    "    ----------\n",
    "    visual_likelihoods: np.ndarray (part~5, digit~10) of per_digit likelihoods\n",
    "    model_combinations: np.ndarray (combination~1000, part~5) \n",
    "        symbolic model is uniform distribution on those combinations.\n",
    "    \n",
    "    Returns\n",
    "    -------\n",
    "    likelihood: nll for that given sample: -log { 1/|C| sum_{z\\in C} p(z) \\prod_i p(x_i | z_i) }\n",
    "    conditional_likelihoods: -\\sum_i \\log p(x_i | z_i)\n",
    "    closest_combination: return combination z in model_combinations with highest likelihood\n",
    "    '''\n",
    "    conditional_likelihoods = []\n",
    "    for combination in model_combinations:  # iterate over possible z\n",
    "        tmp = 0.\n",
    "        for part, c in enumerate(combination):\n",
    "            p_xPart_given_zPart = visual_likelihoods[part, c]\n",
    "            tmp += p_xPart_given_zPart\n",
    "        conditional_likelihoods.append(tmp)\n",
    "    likelihood = np.log(len(p.train_positive)) - log_sum_exp(-np.asarray(conditional_likelihoods))  # get NLL\n",
    "    # for debugging return closest combination\n",
    "    best_x_z = np.argmin(conditional_likelihoods)  # smallest log likelihood\n",
    "    closest_combination = p.train_positive[best_x_z]\n",
    "    return likelihood, conditional_likelihoods, closest_combination\n",
    "    \n",
    "    \n",
    "# Test: get liklelihood for sample giving visual_likelihood\n",
    "likelihood, conditional_likelihoods, closest_combination = get_one_sample_likelihood(\n",
    "    visual_likelihoods, p.train_positive)\n",
    "\n",
    "# Note that the largest conditional likelihood should correspond classifying the combination\n",
    "# if combination verifies constraint\n",
    "print 'Closest combination match', closest_combination\n",
    "print 'Likelihood', likelihood"
   ]
  },
  {
   "cell_type": "markdown",
   "metadata": {},
   "source": [
    "# Repeat this over all training set combinations X model combinations\n",
    "[Main Function]"
   ]
  },
  {
   "cell_type": "code",
   "execution_count": 55,
   "metadata": {
    "scrolled": false
   },
   "outputs": [
    {
     "name": "stdout",
     "output_type": "stream",
     "text": [
      "Combination # 0\n",
      "Combination [4 9 2 6 4]\n",
      "closest [4 9 2 6 4]\n",
      "Likelihood 515.6616694614848\n",
      "Average NLL: 515.7 +/- 0.0\n",
      "Combination # 50\n",
      "Combination [6 9 1 1 8]\n",
      "closest [6 9 1 1 8]\n",
      "Likelihood 386.8954646275007\n",
      "Average NLL: 497.0 +/- 8.2\n",
      "Combination # 100\n",
      "Combination [0 3 7 8 7]\n",
      "closest [0 3 7 8 7]\n",
      "Likelihood 468.18712875103586\n",
      "Average NLL: 496.2 +/- 5.7\n",
      "Combination # 150\n",
      "Combination [8 7 5 3 2]\n",
      "closest [8 7 5 3 2]\n",
      "Likelihood 515.4495265171491\n",
      "Average NLL: 490.6 +/- 4.7\n",
      "NLL in [483.1; 491.2]\n"
     ]
    }
   ],
   "source": [
    "def get_likelihood(target_combinations, model_combinations,\n",
    "                    visual_samplers, visual_models, max_iterations=200):\n",
    "    '''\n",
    "    Return estimated likelihood for \n",
    "    '''\n",
    "    all_likelihoods = []\n",
    "    for i, combination in enumerate(p.train_positive):  # true distribution to reach\n",
    "        \n",
    "        if i >= max_iterations:\n",
    "            break\n",
    "        \n",
    "        # Transform symbolic combination to visual\n",
    "        visual_combination = to_visual(combination, visual_samplers)\n",
    "        \n",
    "        # Compute likelihood of each part(digit) with each visual conditional model \n",
    "        visual_likelihoods = get_per_digit_likelihood(visual_combination, visual_models)  \n",
    "        \n",
    "        # Compute likelihood of that visual sample\n",
    "        likelihood, conditional_likelihoods, closest_combination = get_one_sample_likelihood(\n",
    "            visual_likelihoods, model_combinations)  # model distribution\n",
    "\n",
    "        # Logging\n",
    "        all_likelihoods.append(likelihood)\n",
    "        average_nll = np.mean(all_likelihoods)\n",
    "        std = np.std(all_likelihoods) / np.sqrt(len(all_likelihoods))\n",
    "        if i % 50 == 0:\n",
    "            print 'Combination #', i\n",
    "            print 'Combination', combination\n",
    "            print 'closest', closest_combination\n",
    "            print 'Likelihood', likelihood\n",
    "            print 'Average NLL: {:.1f} +/- {:.1f}'.format(average_nll, std) \n",
    "            \n",
    "    return average_nll, std\n",
    "\n",
    "target_combinations = p.train_positive\n",
    "model_combinations = p.train_positive\n",
    "average_nll, std = get_likelihood(target_combinations, model_combinations,\n",
    "                    visual_samplers, visual_models, max_iterations=200)\n",
    "\n",
    "print 'NLL in [{:.1f}; {:.1f}]'.format(average_nll-std, average_nll+std)"
   ]
  }
 ],
 "metadata": {
  "kernelspec": {
   "display_name": "Python 2",
   "language": "python",
   "name": "python2"
  },
  "language_info": {
   "codemirror_mode": {
    "name": "ipython",
    "version": 2
   },
   "file_extension": ".py",
   "mimetype": "text/x-python",
   "name": "python",
   "nbconvert_exporter": "python",
   "pygments_lexer": "ipython2",
   "version": "2.7.15"
  }
 },
 "nbformat": 4,
 "nbformat_minor": 2
}
