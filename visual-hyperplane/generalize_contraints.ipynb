{
 "cells": [
  {
   "cell_type": "markdown",
   "metadata": {},
   "source": [
    "# We verify that MLP can generalize symbolic constraints\n",
    "- Sum of 25\n",
    "- Increasing\n",
    "- Symmetric\n",
    "- Odd/Even (weird?) or Dividable by something\n",
    "\n",
    "Real is much easier.\n",
    "For symbolic, it would not be much harder if internally it learns embeddings for each number."
   ]
  },
  {
   "cell_type": "code",
   "execution_count": 115,
   "metadata": {},
   "outputs": [
    {
     "name": "stdout",
     "output_type": "stream",
     "text": [
      "Positives 563\n",
      "Negatives 9436\n"
     ]
    }
   ],
   "source": [
    "import torch\n",
    "from torch import nn\n",
    "import numpy as np\n",
    "from coins import generate_combinations\n",
    "from itertools import product\n",
    "from torch.utils.data import DataLoader\n",
    "\n",
    "CONSTRAINT = 'sum_25'\n",
    "#CONSTRAINT = 'increasing'\n",
    "\n",
    "if CONSTRAINT == 'sum_25':\n",
    "    combinations = np.asarray(generate_combinations(25, range(10), 5))\n",
    "    combinations_set = set(map(tuple, combinations))\n",
    "    uniform = np.asarray(list(product(range(10),range(10),range(10),range(10),range(10))))\n",
    "    non_combinations = np.asarray([c for c in uniform if tuple(c) not in combinations_set])\n",
    "    positive = combinations.astype(np.float32)\n",
    "    negative = non_combinations.astype(np.float32)\n",
    "    \n",
    "    \n",
    "def split(iterable, train_ratio=0.1, shuffle=True):\n",
    "    if shuffle:\n",
    "        np.random.shuffle(iterable)\n",
    "    n = int(len(iterable)*train_ratio)\n",
    "    train = iterable[:n]\n",
    "    test = iterable[n:]\n",
    "    return train, test\n",
    "\n",
    "train_positive, test_positive = split(positive)\n",
    "train_negative, test_negative = split(negative)\n",
    "\n",
    "BATCH = 32\n",
    "\n",
    "def make_infinite(iterable):\n",
    "    while True:\n",
    "        for i in iterable:\n",
    "            yield i\n",
    "            \n",
    "            \n",
    "train_positive_iter = make_infinite(DataLoader(train_positive, batch_size=BATCH, shuffle=True))\n",
    "test_positive_iter = make_infinite(DataLoader(test_positive, batch_size=BATCH, shuffle=True))\n",
    "train_negative_iter = make_infinite(DataLoader(train_negative, batch_size=BATCH, shuffle=True))\n",
    "test_negative_iter = make_infinite(DataLoader(test_negative, batch_size=BATCH, shuffle=True))\n",
    "\n",
    "print 'Positives', len(train_positive)\n",
    "print 'Negatives', len(train_negative)"
   ]
  },
  {
   "cell_type": "code",
   "execution_count": 114,
   "metadata": {},
   "outputs": [
    {
     "name": "stdout",
     "output_type": "stream",
     "text": [
      "Iteration 0\n",
      "Train 0.7520976662635803\n",
      "Test  0.689124584197998\n",
      "Test Accuracy  0.5625\n",
      "Iteration 500\n",
      "Train 0.493678143620491\n",
      "Test  0.5139653617143631\n",
      "Test Accuracy  0.7396875\n",
      "Iteration 1000\n",
      "Train 0.40479266464710234\n",
      "Test  0.4165205144882202\n",
      "Test Accuracy  0.8105208325386047\n",
      "Iteration 1500\n",
      "Train 0.2820704773068428\n",
      "Test  0.2869487324357033\n",
      "Test Accuracy  0.9009375\n",
      "Iteration 2000\n",
      "Train 0.17585505589842795\n",
      "Test  0.18914292097091676\n",
      "Test Accuracy  0.9396875\n",
      "Iteration 2500\n",
      "Train 0.14609171621501446\n",
      "Test  0.1459859184920788\n",
      "Test Accuracy  0.9525\n",
      "Iteration 3000\n",
      "Train 0.09876847863197327\n",
      "Test  0.11125986143946648\n",
      "Test Accuracy  0.9659375\n",
      "Iteration 3500\n",
      "Train 0.07955145843327045\n",
      "Test  0.10135168120265008\n",
      "Test Accuracy  0.9646875\n",
      "Iteration 4000\n",
      "Train 0.05866503246128559\n",
      "Test  0.07112564716488123\n",
      "Test Accuracy  0.9809375\n",
      "Iteration 4500\n",
      "Train 0.0628455414250493\n",
      "Test  0.07323305584490299\n",
      "Test Accuracy  0.976875\n",
      "Iteration 5000\n",
      "Train 0.05540789362043142\n",
      "Test  0.07266487112268806\n",
      "Test Accuracy  0.9784375\n",
      "Iteration 5500\n",
      "Train 0.03831152243539691\n",
      "Test  0.04989220414310694\n",
      "Test Accuracy  0.986875\n",
      "Iteration 6000\n",
      "Train 0.055179246515035626\n",
      "Test  0.06202026888728142\n",
      "Test Accuracy  0.9809375\n",
      "Iteration 6500\n",
      "Train 0.0406543960608542\n",
      "Test  0.061593712102621795\n",
      "Test Accuracy  0.98\n",
      "Iteration 7000\n",
      "Train 0.015157028492540121\n",
      "Test  0.032567146392539145\n",
      "Test Accuracy  0.9909375\n",
      "Iteration 7500\n",
      "Train 0.07404783422127366\n",
      "Test  0.08606219344306737\n",
      "Test Accuracy  0.9709375\n",
      "Iteration 8000\n",
      "Train 0.018514381488785148\n",
      "Test  0.027014509718865157\n",
      "Test Accuracy  0.9971875\n",
      "Iteration 8500\n",
      "Train 0.013685059491544962\n",
      "Test  0.023082661302760245\n",
      "Test Accuracy  0.998125\n",
      "Iteration 9000\n",
      "Train 0.007792852711863816\n",
      "Test  0.015120952501893043\n",
      "Test Accuracy  0.9984375\n",
      "Iteration 9500\n",
      "Train 0.012871785308234393\n",
      "Test  0.020195394111797212\n",
      "Test Accuracy  0.996875\n"
     ]
    }
   ],
   "source": [
    "dims = 100\n",
    "model = nn.Sequential(\n",
    "    nn.Linear(5, dims),\n",
    "    nn.ReLU(True),\n",
    "    nn.Linear(dims, dims),\n",
    "    nn.ReLU(True),\n",
    "    nn.Linear(dims, 2),\n",
    "    nn.LogSoftmax()\n",
    ")\n",
    "\n",
    "criterion = torch.nn.NLLLoss()\n",
    "optimizer = torch.optim.Adam(model.parameters())\n",
    "losses = []\n",
    "test_losses = []\n",
    "test_accuracies = []\n",
    "\n",
    "def get_loss(model, positive, negative):\n",
    "    positive_pred = model(positive)\n",
    "    negative_pred = model(negative)    \n",
    "    positive_target = torch.ones(len(positive), dtype=torch.long)\n",
    "    negative_target = torch.zeros(len(negative), dtype=torch.long)\n",
    "    \n",
    "    positive_loss = criterion(positive_pred, positive_target)\n",
    "    negative_loss = criterion(negative_pred, negative_target)\n",
    "    \n",
    "    positive_accuracy = (positive_pred.argmax(1) == positive_target).float().mean()\n",
    "    negative_accuracy = (negative_pred.argmax(1) == negative_target).float().mean()\n",
    "    \n",
    "    loss = 0.5 * (positive_loss + negative_loss)\n",
    "    accuracy = 0.5 * (positive_accuracy + negative_accuracy)\n",
    "    \n",
    "    # Accuracy\n",
    "    return loss, accuracy\n",
    "\n",
    "\n",
    "for iteration in xrange(10000):\n",
    "    # train\n",
    "    positive = train_positive_iter.next()\n",
    "    negative = train_negative_iter.next()\n",
    "    loss, accuracy = get_loss(model, positive, negative)\n",
    "    \n",
    "    optimizer.zero_grad()\n",
    "    loss.backward()\n",
    "    optimizer.step()\n",
    "    \n",
    "    # test\n",
    "    test_positive = test_positive_iter.next().float()\n",
    "    test_negative = test_negative_iter.next().float()    \n",
    "    test_loss, test_accuracy = get_loss(model, test_positive, test_negative)\n",
    "  \n",
    "    losses.append(loss.item())\n",
    "    test_losses.append(test_loss.item())\n",
    "    test_accuracies.append(test_accuracy.item())\n",
    "    if iteration % 500 == 0:\n",
    "        print 'Iteration', iteration\n",
    "        print 'Train', np.mean(losses[-min(len(losses), 50):])\n",
    "        print 'Test ', np.mean(test_losses[-min(len(losses), 50):])\n",
    "        print 'Test Accuracy ', np.mean(test_accuracies[-min(len(losses), 50):])"
   ]
  },
  {
   "cell_type": "code",
   "execution_count": 89,
   "metadata": {},
   "outputs": [
    {
     "name": "stdout",
     "output_type": "stream",
     "text": [
      "tensor([[-0.6838, -0.7026]])\n"
     ]
    },
    {
     "data": {
      "text/plain": [
       "tensor([ 0])"
      ]
     },
     "execution_count": 89,
     "metadata": {},
     "output_type": "execute_result"
    }
   ],
   "source": [
    "a = model(torch.Tensor([[5,6,5,5,5]]))\n",
    "print a\n",
    "a.argmax(1)"
   ]
  },
  {
   "cell_type": "code",
   "execution_count": 41,
   "metadata": {},
   "outputs": [
    {
     "data": {
      "text/plain": [
       "torch.int64"
      ]
     },
     "execution_count": 41,
     "metadata": {},
     "output_type": "execute_result"
    }
   ],
   "source": [
    "torch.long"
   ]
  }
 ],
 "metadata": {
  "kernelspec": {
   "display_name": "Python 2",
   "language": "python",
   "name": "python2"
  },
  "language_info": {
   "codemirror_mode": {
    "name": "ipython",
    "version": 2
   },
   "file_extension": ".py",
   "mimetype": "text/x-python",
   "name": "python",
   "nbconvert_exporter": "python",
   "pygments_lexer": "ipython2",
   "version": "2.7.13"
  }
 },
 "nbformat": 4,
 "nbformat_minor": 2
}
